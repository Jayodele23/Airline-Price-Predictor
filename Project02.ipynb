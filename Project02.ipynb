{
 "cells": [
  {
   "cell_type": "markdown",
   "id": "245918b3-be3c-4d1f-9a58-7f2a88d01183",
   "metadata": {},
   "source": [
    "# Project 2\n",
    "### CS 5/7394 - Applied Machine Learning\n",
    "\n",
    "- **Due** - March 11 @ 11:59 pm pushed to Github repo\n",
    "- **Teams** - You can do this project solo or in pairs.  Not 3, not 4 not 5... Max of 2. If a 5394 student pairs with a 7394 student, the pair needs to do the 7394 work. "
   ]
  },
  {
   "cell_type": "markdown",
   "id": "cae9b08f-7745-4dfb-8927-258f22423720",
   "metadata": {},
   "source": [
    "Below are 6 Kaggle Datasets.  You will choose 1 to work with for this project. \n",
    "\n",
    "- [Airfare Prediction Dataset](https://www.kaggle.com/zwartfreak/airline-fare-prediction)\n",
    "- [Chinese Rest Holiday Dataset](https://www.kaggle.com/holoong9291/chinese-rest-holiday-dataset-2020-to-2022)\n",
    "- [Jigsaw Toxic Comment Classification Challenge](https://www.kaggle.com/julian3833/jigsaw-toxic-comment-classification-challenge?select=train.csv)\n",
    "- [Latest Covid 19 Dataset Worldwide](https://www.kaggle.com/sandhyakrishnan02/latest-covid-19-dataset-worldwide)\n",
    "- [Trains](https://www.kaggle.com/vahidehdashti/machinelearningdatabase-trains?select=trains-original.data)\n",
    "- [Football Data top 5 Leagues](https://www.kaggle.com/sanjeetsinghnaik/football-data-top-5-leagues)\n",
    "\n",
    "Merging disparate datasets is a staple of the data exploration process.  Therefore, for which ever data set above that you choose, you will need to independently find **an additional** dataset to merge with your selection.  The only requirement is that it add to the richness of the original dataset. Students in the 7000-level version of the class need to find two additional data sets to merge with the original selection. \n",
    "\n",
    "_Note_: If you want to start with a different data set, you need to get Fontenot's OK first.  "
   ]
  },
  {
   "cell_type": "markdown",
   "id": "126330db-b29f-46d9-b16e-7811612a9e73",
   "metadata": {},
   "source": [
    "### Your Tasks\n",
    "\n",
    "Below, there are cells that provide directions on what to do for the project.  \n",
    "\n",
    "You can insert as many cells between the ones below as you'd like, but please **Do NOT** change the cells already provided. "
   ]
  },
  {
   "cell_type": "markdown",
   "id": "0f2ca87f-07eb-4792-b76e-15f2f01d1408",
   "metadata": {},
   "source": [
    "### Part 1 - Getting Started\n",
    "\n",
    "- Import libraries\n",
    "- Load original Data (which ever one you chose from the provided list) into a data frame. \n",
    "- Load your additional data set(s) into a data frame. \n",
    "- In a markdown cell, provide a brief description of your the data sets you've chosen to work with.  \n",
    "- Develop a list of 3 - 4 questions that you hope to be able to answer after the exploration of the data and write them in this section. "
   ]
  },
  {
   "cell_type": "code",
   "execution_count": 1,
   "id": "ef9b70f5-346e-47af-9d38-043de6663c0c",
   "metadata": {},
   "outputs": [],
   "source": [
    "import pandas as pd\n",
    "import numpy as np\n",
    "import seaborn as sns\n",
    "import matplotlib.pyplot as plt"
   ]
  },
  {
   "cell_type": "code",
   "execution_count": 2,
   "id": "dd694a60-8250-4a6f-9fff-0a055958b956",
   "metadata": {},
   "outputs": [],
   "source": [
    "org_df = pd.read_excel(\"C:/Users/Joshua Ayodele/Downloads/archive (2)/train.xlsx\")\n",
    "alt_df = pd.read_csv(\"C:/Users/Joshua Ayodele/Downloads/archive (3)/BrentOilPrices.csv\")"
   ]
  },
  {
   "cell_type": "markdown",
   "id": "13f5428a-c0f5-4307-8f2e-9c812e37b675",
   "metadata": {
    "tags": []
   },
   "source": [
    "## Description of datasets:\n",
    "For this project, I used the Airface Prediction dataset alongside the Brent Oil Prices dataset. The Airface Prediction dataset contains information about different airlines such as departure time,date of journey, and price. The purpose of this dataset is for the user to select specific variables that could lead to an accurate price prediction. The Brent Oil Prices dataset is a collection of oil prices over the years dating back to the year 1987. I used this dataset as an alternative because I believed it could be a significant factor when determining prices during certain months. Planes use oil for fuel and if the price of the oil increases, this should in turn increase the cost of fuel. This would further increase the price of a flight as they airline has to pay more for fuel. \n",
    "### Questions about datasets:\n",
    "    1. Are there any null variables within either dataset?\n",
    "    2. If there are any null varibales, where are they located and how should I go about dealing with this issue?\n",
    "    3. What varibles are present within the dataset and how should they be classified?"
   ]
  },
  {
   "cell_type": "markdown",
   "id": "7dc8b1e5-3e29-4da6-8d36-0e7cf48a3e59",
   "metadata": {
    "tags": []
   },
   "source": [
    "### Part 2 - Data Inspection\n",
    "\n",
    "Write some code to summarize the datasets.  Think about the following questions:\n",
    "- What type of data is each variable? (think like a data scientist here, not a computer scientist)\n",
    "- What is the total size of the data sets?\n",
    "- What time boundaries are there in the dataset?  IOW, what time frame do they span?\n",
    "- Are there any missing values in any of the variables? \n",
    "\n",
    "Do this with Intentionality.  Don't skimp. "
   ]
  },
  {
   "cell_type": "code",
   "execution_count": 3,
   "id": "31ea0e37-841e-4be8-95c3-40c54118a52b",
   "metadata": {
    "tags": []
   },
   "outputs": [
    {
     "data": {
      "text/html": [
       "<div>\n",
       "<style scoped>\n",
       "    .dataframe tbody tr th:only-of-type {\n",
       "        vertical-align: middle;\n",
       "    }\n",
       "\n",
       "    .dataframe tbody tr th {\n",
       "        vertical-align: top;\n",
       "    }\n",
       "\n",
       "    .dataframe thead th {\n",
       "        text-align: right;\n",
       "    }\n",
       "</style>\n",
       "<table border=\"1\" class=\"dataframe\">\n",
       "  <thead>\n",
       "    <tr style=\"text-align: right;\">\n",
       "      <th></th>\n",
       "      <th>Airline</th>\n",
       "      <th>Date_of_Journey</th>\n",
       "      <th>Source</th>\n",
       "      <th>Destination</th>\n",
       "      <th>Route</th>\n",
       "      <th>Dep_Time</th>\n",
       "      <th>Arrival_Time</th>\n",
       "      <th>Duration</th>\n",
       "      <th>Total_Stops</th>\n",
       "      <th>Additional Info</th>\n",
       "      <th>Price</th>\n",
       "    </tr>\n",
       "  </thead>\n",
       "  <tbody>\n",
       "    <tr>\n",
       "      <th>0</th>\n",
       "      <td>IndiGo</td>\n",
       "      <td>24/03/2019</td>\n",
       "      <td>Banglore</td>\n",
       "      <td>New Delhi</td>\n",
       "      <td>BLR → DEL</td>\n",
       "      <td>22:20</td>\n",
       "      <td>01:10 22 Mar</td>\n",
       "      <td>2h 50m</td>\n",
       "      <td>non-stop</td>\n",
       "      <td>No info</td>\n",
       "      <td>3898</td>\n",
       "    </tr>\n",
       "    <tr>\n",
       "      <th>1</th>\n",
       "      <td>Air India</td>\n",
       "      <td>1/05/2019</td>\n",
       "      <td>Kolkata</td>\n",
       "      <td>Banglore</td>\n",
       "      <td>CCU → IXR → BBI → BLR</td>\n",
       "      <td>05:50</td>\n",
       "      <td>13:15</td>\n",
       "      <td>7h 25m</td>\n",
       "      <td>2 stops</td>\n",
       "      <td>No info</td>\n",
       "      <td>7663</td>\n",
       "    </tr>\n",
       "    <tr>\n",
       "      <th>2</th>\n",
       "      <td>Jet Airways</td>\n",
       "      <td>9/06/2019</td>\n",
       "      <td>Delhi</td>\n",
       "      <td>Cochin</td>\n",
       "      <td>DEL → LKO → BOM → COK</td>\n",
       "      <td>09:25</td>\n",
       "      <td>04:25 10 Jun</td>\n",
       "      <td>19h</td>\n",
       "      <td>2 stops</td>\n",
       "      <td>No info</td>\n",
       "      <td>13883</td>\n",
       "    </tr>\n",
       "    <tr>\n",
       "      <th>3</th>\n",
       "      <td>IndiGo</td>\n",
       "      <td>12/05/2019</td>\n",
       "      <td>Kolkata</td>\n",
       "      <td>Banglore</td>\n",
       "      <td>CCU → NAG → BLR</td>\n",
       "      <td>18:05</td>\n",
       "      <td>23:30</td>\n",
       "      <td>5h 25m</td>\n",
       "      <td>1 stop</td>\n",
       "      <td>No info</td>\n",
       "      <td>6219</td>\n",
       "    </tr>\n",
       "    <tr>\n",
       "      <th>4</th>\n",
       "      <td>IndiGo</td>\n",
       "      <td>01/03/2019</td>\n",
       "      <td>Banglore</td>\n",
       "      <td>New Delhi</td>\n",
       "      <td>BLR → NAG → DEL</td>\n",
       "      <td>16:50</td>\n",
       "      <td>21:35</td>\n",
       "      <td>4h 45m</td>\n",
       "      <td>1 stop</td>\n",
       "      <td>No info</td>\n",
       "      <td>13303</td>\n",
       "    </tr>\n",
       "  </tbody>\n",
       "</table>\n",
       "</div>"
      ],
      "text/plain": [
       "       Airline Date_of_Journey    Source Destination                  Route  \\\n",
       "0       IndiGo      24/03/2019  Banglore   New Delhi              BLR → DEL   \n",
       "1    Air India       1/05/2019   Kolkata    Banglore  CCU → IXR → BBI → BLR   \n",
       "2  Jet Airways       9/06/2019     Delhi      Cochin  DEL → LKO → BOM → COK   \n",
       "3       IndiGo      12/05/2019   Kolkata    Banglore        CCU → NAG → BLR   \n",
       "4       IndiGo      01/03/2019  Banglore   New Delhi        BLR → NAG → DEL   \n",
       "\n",
       "  Dep_Time  Arrival_Time Duration Total_Stops Additional Info  Price  \n",
       "0    22:20  01:10 22 Mar   2h 50m    non-stop         No info   3898  \n",
       "1    05:50         13:15   7h 25m     2 stops         No info   7663  \n",
       "2    09:25  04:25 10 Jun      19h     2 stops         No info  13883  \n",
       "3    18:05         23:30   5h 25m      1 stop         No info   6219  \n",
       "4    16:50         21:35   4h 45m      1 stop         No info  13303  "
      ]
     },
     "execution_count": 3,
     "metadata": {},
     "output_type": "execute_result"
    }
   ],
   "source": [
    "org_df.head()\n",
    "#First question that came to my mind while handling this data is how I should deal with variables such as route and dep_time."
   ]
  },
  {
   "cell_type": "code",
   "execution_count": 4,
   "id": "225c3dd9-da70-4c5b-8295-14ba11174330",
   "metadata": {
    "tags": []
   },
   "outputs": [
    {
     "name": "stderr",
     "output_type": "stream",
     "text": [
      "C:\\Users\\JOSHUA~1\\AppData\\Local\\Temp/ipykernel_18160/3192686544.py:2: FutureWarning: In a future version of pandas all arguments of DataFrame.drop except for the argument 'labels' will be keyword-only\n",
      "  org_df = org_df.drop(\"Date_of_Journey\", 1)\n"
     ]
    }
   ],
   "source": [
    "org_df[\"journey_date\"] = org_df[\"Date_of_Journey\"]\n",
    "org_df = org_df.drop(\"Date_of_Journey\", 1)"
   ]
  },
  {
   "cell_type": "code",
   "execution_count": 5,
   "id": "c9cdd397-4ffd-4971-b894-5672892ca5ab",
   "metadata": {
    "tags": []
   },
   "outputs": [
    {
     "data": {
      "text/plain": [
       "True"
      ]
     },
     "execution_count": 5,
     "metadata": {},
     "output_type": "execute_result"
    }
   ],
   "source": [
    "org_df.isna().any().any()\n",
    "#Checking to see if there are any missing values in the Airfare Prediction dataset. Unfortunately, there are."
   ]
  },
  {
   "cell_type": "code",
   "execution_count": 6,
   "id": "88f648a8-90fd-4638-a809-e32a324b5109",
   "metadata": {
    "tags": []
   },
   "outputs": [
    {
     "data": {
      "text/plain": [
       "Airline            0\n",
       "Source             0\n",
       "Destination        0\n",
       "Route              1\n",
       "Dep_Time           0\n",
       "Arrival_Time       0\n",
       "Duration           0\n",
       "Total_Stops        1\n",
       "Additional Info    0\n",
       "Price              0\n",
       "journey_date       0\n",
       "dtype: int64"
      ]
     },
     "execution_count": 6,
     "metadata": {},
     "output_type": "execute_result"
    }
   ],
   "source": [
    "missing = org_df.isnull().sum()\n",
    "missing"
   ]
  },
  {
   "cell_type": "code",
   "execution_count": 7,
   "id": "3ae7afb0-1928-4ba8-a6c8-a06571a16432",
   "metadata": {
    "tags": []
   },
   "outputs": [
    {
     "name": "stdout",
     "output_type": "stream",
     "text": [
      "<class 'pandas.core.frame.DataFrame'>\n",
      "RangeIndex: 10683 entries, 0 to 10682\n",
      "Data columns (total 11 columns):\n",
      " #   Column           Non-Null Count  Dtype \n",
      "---  ------           --------------  ----- \n",
      " 0   Airline          10683 non-null  object\n",
      " 1   Source           10683 non-null  object\n",
      " 2   Destination      10683 non-null  object\n",
      " 3   Route            10682 non-null  object\n",
      " 4   Dep_Time         10683 non-null  object\n",
      " 5   Arrival_Time     10683 non-null  object\n",
      " 6   Duration         10683 non-null  object\n",
      " 7   Total_Stops      10682 non-null  object\n",
      " 8   Additional Info  10683 non-null  object\n",
      " 9   Price            10683 non-null  int64 \n",
      " 10  journey_date     10683 non-null  object\n",
      "dtypes: int64(1), object(10)\n",
      "memory usage: 918.2+ KB\n"
     ]
    }
   ],
   "source": [
    "org_df.info()"
   ]
  },
  {
   "cell_type": "code",
   "execution_count": 8,
   "id": "67812352-b838-47b5-86c5-67930b646b0a",
   "metadata": {
    "tags": []
   },
   "outputs": [
    {
     "data": {
      "text/html": [
       "<div>\n",
       "<style scoped>\n",
       "    .dataframe tbody tr th:only-of-type {\n",
       "        vertical-align: middle;\n",
       "    }\n",
       "\n",
       "    .dataframe tbody tr th {\n",
       "        vertical-align: top;\n",
       "    }\n",
       "\n",
       "    .dataframe thead th {\n",
       "        text-align: right;\n",
       "    }\n",
       "</style>\n",
       "<table border=\"1\" class=\"dataframe\">\n",
       "  <thead>\n",
       "    <tr style=\"text-align: right;\">\n",
       "      <th></th>\n",
       "      <th>Price</th>\n",
       "    </tr>\n",
       "  </thead>\n",
       "  <tbody>\n",
       "    <tr>\n",
       "      <th>count</th>\n",
       "      <td>10683.000000</td>\n",
       "    </tr>\n",
       "    <tr>\n",
       "      <th>mean</th>\n",
       "      <td>9088.064121</td>\n",
       "    </tr>\n",
       "    <tr>\n",
       "      <th>std</th>\n",
       "      <td>4611.359167</td>\n",
       "    </tr>\n",
       "    <tr>\n",
       "      <th>min</th>\n",
       "      <td>1760.000000</td>\n",
       "    </tr>\n",
       "    <tr>\n",
       "      <th>25%</th>\n",
       "      <td>5278.000000</td>\n",
       "    </tr>\n",
       "    <tr>\n",
       "      <th>50%</th>\n",
       "      <td>8373.000000</td>\n",
       "    </tr>\n",
       "    <tr>\n",
       "      <th>75%</th>\n",
       "      <td>12374.000000</td>\n",
       "    </tr>\n",
       "    <tr>\n",
       "      <th>max</th>\n",
       "      <td>79513.000000</td>\n",
       "    </tr>\n",
       "  </tbody>\n",
       "</table>\n",
       "</div>"
      ],
      "text/plain": [
       "              Price\n",
       "count  10683.000000\n",
       "mean    9088.064121\n",
       "std     4611.359167\n",
       "min     1760.000000\n",
       "25%     5278.000000\n",
       "50%     8373.000000\n",
       "75%    12374.000000\n",
       "max    79513.000000"
      ]
     },
     "execution_count": 8,
     "metadata": {},
     "output_type": "execute_result"
    }
   ],
   "source": [
    "org_df.describe()"
   ]
  },
  {
   "cell_type": "code",
   "execution_count": 9,
   "id": "f562bdc8-edfb-4f27-871e-e33eaef5a341",
   "metadata": {
    "tags": []
   },
   "outputs": [
    {
     "data": {
      "text/html": [
       "<div>\n",
       "<style scoped>\n",
       "    .dataframe tbody tr th:only-of-type {\n",
       "        vertical-align: middle;\n",
       "    }\n",
       "\n",
       "    .dataframe tbody tr th {\n",
       "        vertical-align: top;\n",
       "    }\n",
       "\n",
       "    .dataframe thead th {\n",
       "        text-align: right;\n",
       "    }\n",
       "</style>\n",
       "<table border=\"1\" class=\"dataframe\">\n",
       "  <thead>\n",
       "    <tr style=\"text-align: right;\">\n",
       "      <th></th>\n",
       "      <th>Date</th>\n",
       "      <th>Price</th>\n",
       "    </tr>\n",
       "  </thead>\n",
       "  <tbody>\n",
       "    <tr>\n",
       "      <th>0</th>\n",
       "      <td>20-May-87</td>\n",
       "      <td>18.63</td>\n",
       "    </tr>\n",
       "    <tr>\n",
       "      <th>1</th>\n",
       "      <td>21-May-87</td>\n",
       "      <td>18.45</td>\n",
       "    </tr>\n",
       "    <tr>\n",
       "      <th>2</th>\n",
       "      <td>22-May-87</td>\n",
       "      <td>18.55</td>\n",
       "    </tr>\n",
       "    <tr>\n",
       "      <th>3</th>\n",
       "      <td>25-May-87</td>\n",
       "      <td>18.60</td>\n",
       "    </tr>\n",
       "    <tr>\n",
       "      <th>4</th>\n",
       "      <td>26-May-87</td>\n",
       "      <td>18.63</td>\n",
       "    </tr>\n",
       "  </tbody>\n",
       "</table>\n",
       "</div>"
      ],
      "text/plain": [
       "        Date  Price\n",
       "0  20-May-87  18.63\n",
       "1  21-May-87  18.45\n",
       "2  22-May-87  18.55\n",
       "3  25-May-87  18.60\n",
       "4  26-May-87  18.63"
      ]
     },
     "execution_count": 9,
     "metadata": {},
     "output_type": "execute_result"
    }
   ],
   "source": [
    "alt_df.head()"
   ]
  },
  {
   "cell_type": "code",
   "execution_count": 10,
   "id": "79b11edb-c56b-46e6-8b9d-1ecc4a615e3c",
   "metadata": {
    "tags": []
   },
   "outputs": [
    {
     "name": "stdout",
     "output_type": "stream",
     "text": [
      "<class 'pandas.core.frame.DataFrame'>\n",
      "RangeIndex: 8554 entries, 0 to 8553\n",
      "Data columns (total 2 columns):\n",
      " #   Column  Non-Null Count  Dtype  \n",
      "---  ------  --------------  -----  \n",
      " 0   Date    8554 non-null   object \n",
      " 1   Price   8554 non-null   float64\n",
      "dtypes: float64(1), object(1)\n",
      "memory usage: 133.8+ KB\n"
     ]
    }
   ],
   "source": [
    "alt_df.info()"
   ]
  },
  {
   "cell_type": "code",
   "execution_count": 11,
   "id": "0ee579db-a1d6-4cf6-a2e2-08e1df5f6307",
   "metadata": {
    "tags": []
   },
   "outputs": [
    {
     "data": {
      "text/html": [
       "<div>\n",
       "<style scoped>\n",
       "    .dataframe tbody tr th:only-of-type {\n",
       "        vertical-align: middle;\n",
       "    }\n",
       "\n",
       "    .dataframe tbody tr th {\n",
       "        vertical-align: top;\n",
       "    }\n",
       "\n",
       "    .dataframe thead th {\n",
       "        text-align: right;\n",
       "    }\n",
       "</style>\n",
       "<table border=\"1\" class=\"dataframe\">\n",
       "  <thead>\n",
       "    <tr style=\"text-align: right;\">\n",
       "      <th></th>\n",
       "      <th>Price</th>\n",
       "    </tr>\n",
       "  </thead>\n",
       "  <tbody>\n",
       "    <tr>\n",
       "      <th>count</th>\n",
       "      <td>8554.000000</td>\n",
       "    </tr>\n",
       "    <tr>\n",
       "      <th>mean</th>\n",
       "      <td>46.352962</td>\n",
       "    </tr>\n",
       "    <tr>\n",
       "      <th>std</th>\n",
       "      <td>32.165282</td>\n",
       "    </tr>\n",
       "    <tr>\n",
       "      <th>min</th>\n",
       "      <td>9.100000</td>\n",
       "    </tr>\n",
       "    <tr>\n",
       "      <th>25%</th>\n",
       "      <td>18.850000</td>\n",
       "    </tr>\n",
       "    <tr>\n",
       "      <th>50%</th>\n",
       "      <td>33.240000</td>\n",
       "    </tr>\n",
       "    <tr>\n",
       "      <th>75%</th>\n",
       "      <td>66.210000</td>\n",
       "    </tr>\n",
       "    <tr>\n",
       "      <th>max</th>\n",
       "      <td>143.950000</td>\n",
       "    </tr>\n",
       "  </tbody>\n",
       "</table>\n",
       "</div>"
      ],
      "text/plain": [
       "             Price\n",
       "count  8554.000000\n",
       "mean     46.352962\n",
       "std      32.165282\n",
       "min       9.100000\n",
       "25%      18.850000\n",
       "50%      33.240000\n",
       "75%      66.210000\n",
       "max     143.950000"
      ]
     },
     "execution_count": 11,
     "metadata": {},
     "output_type": "execute_result"
    }
   ],
   "source": [
    "alt_df.describe()"
   ]
  },
  {
   "cell_type": "code",
   "execution_count": 12,
   "id": "c3ed8177-873a-4fff-a2dc-950428404fca",
   "metadata": {
    "tags": []
   },
   "outputs": [
    {
     "data": {
      "text/plain": [
       "False"
      ]
     },
     "execution_count": 12,
     "metadata": {},
     "output_type": "execute_result"
    }
   ],
   "source": [
    "alt_df.isna().any().any()\n",
    "#Fortunately, no null values were found in the Oil dataset."
   ]
  },
  {
   "cell_type": "markdown",
   "id": "f816006c-868c-4863-b0b8-e56e8a1ec8f3",
   "metadata": {
    "tags": []
   },
   "source": [
    "### Part 3 - Data Description\n",
    "\n",
    "- Create a data description (data dictionary) for your data sets.\n",
    "    - Describe each variable\n",
    "    - If categorical, what levels are present? If the levels are encoded, what do the codes mean?\n",
    "    - If numeric, provide min, max, median and any other univariate stats you'd like to add in. \n",
    "- Where appropriate, provide histograms or other visualizations to characterize each variable. "
   ]
  },
  {
   "cell_type": "code",
   "execution_count": 13,
   "id": "44321a6a-24bc-4692-a2fb-530b033a2b8c",
   "metadata": {
    "tags": []
   },
   "outputs": [
    {
     "data": {
      "text/html": [
       "<div>\n",
       "<style scoped>\n",
       "    .dataframe tbody tr th:only-of-type {\n",
       "        vertical-align: middle;\n",
       "    }\n",
       "\n",
       "    .dataframe tbody tr th {\n",
       "        vertical-align: top;\n",
       "    }\n",
       "\n",
       "    .dataframe thead th {\n",
       "        text-align: right;\n",
       "    }\n",
       "</style>\n",
       "<table border=\"1\" class=\"dataframe\">\n",
       "  <thead>\n",
       "    <tr style=\"text-align: right;\">\n",
       "      <th></th>\n",
       "      <th>Airline</th>\n",
       "      <th>Source</th>\n",
       "      <th>Destination</th>\n",
       "      <th>Route</th>\n",
       "      <th>Dep_Time</th>\n",
       "      <th>Arrival_Time</th>\n",
       "      <th>Duration</th>\n",
       "      <th>Total_Stops</th>\n",
       "      <th>Additional Info</th>\n",
       "      <th>Price</th>\n",
       "      <th>journey_date</th>\n",
       "    </tr>\n",
       "  </thead>\n",
       "  <tbody>\n",
       "    <tr>\n",
       "      <th>0</th>\n",
       "      <td>IndiGo</td>\n",
       "      <td>Banglore</td>\n",
       "      <td>New Delhi</td>\n",
       "      <td>BLR → DEL</td>\n",
       "      <td>22:20</td>\n",
       "      <td>01:10 22 Mar</td>\n",
       "      <td>2h 50m</td>\n",
       "      <td>non-stop</td>\n",
       "      <td>No info</td>\n",
       "      <td>3898</td>\n",
       "      <td>24/03/2019</td>\n",
       "    </tr>\n",
       "    <tr>\n",
       "      <th>1</th>\n",
       "      <td>Air India</td>\n",
       "      <td>Kolkata</td>\n",
       "      <td>Banglore</td>\n",
       "      <td>CCU → IXR → BBI → BLR</td>\n",
       "      <td>05:50</td>\n",
       "      <td>13:15</td>\n",
       "      <td>7h 25m</td>\n",
       "      <td>2 stops</td>\n",
       "      <td>No info</td>\n",
       "      <td>7663</td>\n",
       "      <td>1/05/2019</td>\n",
       "    </tr>\n",
       "    <tr>\n",
       "      <th>2</th>\n",
       "      <td>Jet Airways</td>\n",
       "      <td>Delhi</td>\n",
       "      <td>Cochin</td>\n",
       "      <td>DEL → LKO → BOM → COK</td>\n",
       "      <td>09:25</td>\n",
       "      <td>04:25 10 Jun</td>\n",
       "      <td>19h</td>\n",
       "      <td>2 stops</td>\n",
       "      <td>No info</td>\n",
       "      <td>13883</td>\n",
       "      <td>9/06/2019</td>\n",
       "    </tr>\n",
       "    <tr>\n",
       "      <th>3</th>\n",
       "      <td>IndiGo</td>\n",
       "      <td>Kolkata</td>\n",
       "      <td>Banglore</td>\n",
       "      <td>CCU → NAG → BLR</td>\n",
       "      <td>18:05</td>\n",
       "      <td>23:30</td>\n",
       "      <td>5h 25m</td>\n",
       "      <td>1 stop</td>\n",
       "      <td>No info</td>\n",
       "      <td>6219</td>\n",
       "      <td>12/05/2019</td>\n",
       "    </tr>\n",
       "    <tr>\n",
       "      <th>4</th>\n",
       "      <td>IndiGo</td>\n",
       "      <td>Banglore</td>\n",
       "      <td>New Delhi</td>\n",
       "      <td>BLR → NAG → DEL</td>\n",
       "      <td>16:50</td>\n",
       "      <td>21:35</td>\n",
       "      <td>4h 45m</td>\n",
       "      <td>1 stop</td>\n",
       "      <td>No info</td>\n",
       "      <td>13303</td>\n",
       "      <td>01/03/2019</td>\n",
       "    </tr>\n",
       "  </tbody>\n",
       "</table>\n",
       "</div>"
      ],
      "text/plain": [
       "       Airline    Source Destination                  Route Dep_Time  \\\n",
       "0       IndiGo  Banglore   New Delhi              BLR → DEL    22:20   \n",
       "1    Air India   Kolkata    Banglore  CCU → IXR → BBI → BLR    05:50   \n",
       "2  Jet Airways     Delhi      Cochin  DEL → LKO → BOM → COK    09:25   \n",
       "3       IndiGo   Kolkata    Banglore        CCU → NAG → BLR    18:05   \n",
       "4       IndiGo  Banglore   New Delhi        BLR → NAG → DEL    16:50   \n",
       "\n",
       "   Arrival_Time Duration Total_Stops Additional Info  Price journey_date  \n",
       "0  01:10 22 Mar   2h 50m    non-stop         No info   3898   24/03/2019  \n",
       "1         13:15   7h 25m     2 stops         No info   7663    1/05/2019  \n",
       "2  04:25 10 Jun      19h     2 stops         No info  13883    9/06/2019  \n",
       "3         23:30   5h 25m      1 stop         No info   6219   12/05/2019  \n",
       "4         21:35   4h 45m      1 stop         No info  13303   01/03/2019  "
      ]
     },
     "execution_count": 13,
     "metadata": {},
     "output_type": "execute_result"
    }
   ],
   "source": [
    "org_df.head()"
   ]
  },
  {
   "cell_type": "code",
   "execution_count": 14,
   "id": "40af6d8e-fd06-48bf-ad93-23e13aa61393",
   "metadata": {
    "tags": []
   },
   "outputs": [
    {
     "data": {
      "text/html": [
       "<div>\n",
       "<style scoped>\n",
       "    .dataframe tbody tr th:only-of-type {\n",
       "        vertical-align: middle;\n",
       "    }\n",
       "\n",
       "    .dataframe tbody tr th {\n",
       "        vertical-align: top;\n",
       "    }\n",
       "\n",
       "    .dataframe thead th {\n",
       "        text-align: right;\n",
       "    }\n",
       "</style>\n",
       "<table border=\"1\" class=\"dataframe\">\n",
       "  <thead>\n",
       "    <tr style=\"text-align: right;\">\n",
       "      <th></th>\n",
       "      <th>Date</th>\n",
       "      <th>Price</th>\n",
       "    </tr>\n",
       "  </thead>\n",
       "  <tbody>\n",
       "    <tr>\n",
       "      <th>0</th>\n",
       "      <td>20-May-87</td>\n",
       "      <td>18.63</td>\n",
       "    </tr>\n",
       "    <tr>\n",
       "      <th>1</th>\n",
       "      <td>21-May-87</td>\n",
       "      <td>18.45</td>\n",
       "    </tr>\n",
       "    <tr>\n",
       "      <th>2</th>\n",
       "      <td>22-May-87</td>\n",
       "      <td>18.55</td>\n",
       "    </tr>\n",
       "    <tr>\n",
       "      <th>3</th>\n",
       "      <td>25-May-87</td>\n",
       "      <td>18.60</td>\n",
       "    </tr>\n",
       "    <tr>\n",
       "      <th>4</th>\n",
       "      <td>26-May-87</td>\n",
       "      <td>18.63</td>\n",
       "    </tr>\n",
       "  </tbody>\n",
       "</table>\n",
       "</div>"
      ],
      "text/plain": [
       "        Date  Price\n",
       "0  20-May-87  18.63\n",
       "1  21-May-87  18.45\n",
       "2  22-May-87  18.55\n",
       "3  25-May-87  18.60\n",
       "4  26-May-87  18.63"
      ]
     },
     "execution_count": 14,
     "metadata": {},
     "output_type": "execute_result"
    }
   ],
   "source": [
    "alt_df.head()"
   ]
  },
  {
   "cell_type": "code",
   "execution_count": 15,
   "id": "4c8dd79a-7c37-49fa-b394-683b92892431",
   "metadata": {
    "tags": []
   },
   "outputs": [
    {
     "data": {
      "text/plain": [
       "Jet Airways                          3849\n",
       "IndiGo                               2053\n",
       "Air India                            1752\n",
       "Multiple carriers                    1196\n",
       "SpiceJet                              818\n",
       "Vistara                               479\n",
       "Air Asia                              319\n",
       "GoAir                                 194\n",
       "Multiple carriers Premium economy      13\n",
       "Jet Airways Business                    6\n",
       "Vistara Premium economy                 3\n",
       "Trujet                                  1\n",
       "Name: Airline, dtype: int64"
      ]
     },
     "execution_count": 15,
     "metadata": {},
     "output_type": "execute_result"
    }
   ],
   "source": [
    "org_df['Airline'].value_counts()"
   ]
  },
  {
   "cell_type": "code",
   "execution_count": 16,
   "id": "78e72e20-2c70-4d51-9662-d373f5c2306c",
   "metadata": {
    "tags": []
   },
   "outputs": [
    {
     "data": {
      "text/plain": [
       "12"
      ]
     },
     "execution_count": 16,
     "metadata": {},
     "output_type": "execute_result"
    }
   ],
   "source": [
    "org_df['Airline'].nunique()"
   ]
  },
  {
   "cell_type": "code",
   "execution_count": 17,
   "id": "5caf591a-893e-46f5-b505-b9f7f7a7afc6",
   "metadata": {
    "tags": []
   },
   "outputs": [
    {
     "data": {
      "image/png": "[encoded data removed]",
      "text/plain": [
       "<Figure size 2664x1440 with 1 Axes>"
      ]
     },
     "metadata": {
      "needs_background": "light"
     },
     "output_type": "display_data"
    }
   ],
   "source": [
    "org_df['Airline'].hist(bins=30,figsize =(37,20))\n",
    "plt.show()\n",
    "#From the graph we see that Jet Airways the most common airline taken while Trujet is the least."
   ]
  },
  {
   "cell_type": "code",
   "execution_count": 18,
   "id": "4dfc677c-1829-4d1e-9fbb-e4425accd2d3",
   "metadata": {
    "tags": []
   },
   "outputs": [
    {
     "data": {
      "text/plain": [
       "DEL → BOM → COK          2376\n",
       "BLR → DEL                1552\n",
       "CCU → BOM → BLR           979\n",
       "CCU → BLR                 724\n",
       "BOM → HYD                 621\n",
       "                         ... \n",
       "CCU → VTZ → BLR             1\n",
       "CCU → IXZ → MAA → BLR       1\n",
       "BOM → COK → MAA → HYD       1\n",
       "BOM → CCU → HYD             1\n",
       "BOM → BBI → HYD             1\n",
       "Name: Route, Length: 128, dtype: int64"
      ]
     },
     "execution_count": 18,
     "metadata": {},
     "output_type": "execute_result"
    }
   ],
   "source": [
    "org_df['Route'].value_counts()"
   ]
  },
  {
   "cell_type": "code",
   "execution_count": 19,
   "id": "fed34b36-cb22-4747-9ba6-9477c40bc09a",
   "metadata": {
    "tags": []
   },
   "outputs": [
    {
     "data": {
      "text/plain": [
       "128"
      ]
     },
     "execution_count": 19,
     "metadata": {},
     "output_type": "execute_result"
    }
   ],
   "source": [
    "org_df['Route'].nunique()"
   ]
  },
  {
   "cell_type": "code",
   "execution_count": 20,
   "id": "d0e26d5c-e515-479e-bc13-3a84813e53c9",
   "metadata": {
    "tags": []
   },
   "outputs": [
    {
     "data": {
      "text/plain": [
       "Delhi       4537\n",
       "Kolkata     2871\n",
       "Banglore    2197\n",
       "Mumbai       697\n",
       "Chennai      381\n",
       "Name: Source, dtype: int64"
      ]
     },
     "execution_count": 20,
     "metadata": {},
     "output_type": "execute_result"
    }
   ],
   "source": [
    "org_df['Source'].value_counts()"
   ]
  },
  {
   "cell_type": "code",
   "execution_count": 21,
   "id": "91383862-ec6b-42b8-963b-0c84244744f8",
   "metadata": {
    "tags": []
   },
   "outputs": [
    {
     "data": {
      "text/plain": [
       "5"
      ]
     },
     "execution_count": 21,
     "metadata": {},
     "output_type": "execute_result"
    }
   ],
   "source": [
    "org_df['Source'].nunique()"
   ]
  },
  {
   "cell_type": "code",
   "execution_count": 22,
   "id": "7835379d-86b5-4a70-90fa-1ef633d7e1be",
   "metadata": {
    "tags": []
   },
   "outputs": [
    {
     "data": {
      "image/png": "[encoded data removed]",
      "text/plain": [
       "<Figure size 2664x1440 with 1 Axes>"
      ]
     },
     "metadata": {
      "needs_background": "light"
     },
     "output_type": "display_data"
    }
   ],
   "source": [
    "org_df['Source'].hist(bins=50,figsize =(37,20))\n",
    "plt.show()\n",
    "#From the graph we see that Delhi is the most common source while Chennai is the least frequent."
   ]
  },
  {
   "cell_type": "code",
   "execution_count": 23,
   "id": "5d295d8a-f9b2-4ba8-ac4b-b0fb01c0af52",
   "metadata": {
    "tags": []
   },
   "outputs": [
    {
     "data": {
      "text/plain": [
       "Cochin       4537\n",
       "Banglore     2871\n",
       "Delhi        1265\n",
       "New Delhi     932\n",
       "Hyderabad     697\n",
       "Kolkata       381\n",
       "Name: Destination, dtype: int64"
      ]
     },
     "execution_count": 23,
     "metadata": {},
     "output_type": "execute_result"
    }
   ],
   "source": [
    "org_df['Destination'].value_counts()"
   ]
  },
  {
   "cell_type": "code",
   "execution_count": 24,
   "id": "338f9dcb-e7c4-4ee3-9424-3bc992c9cf2f",
   "metadata": {
    "tags": []
   },
   "outputs": [
    {
     "data": {
      "text/plain": [
       "6"
      ]
     },
     "execution_count": 24,
     "metadata": {},
     "output_type": "execute_result"
    }
   ],
   "source": [
    "org_df['Destination'].nunique()"
   ]
  },
  {
   "cell_type": "code",
   "execution_count": 25,
   "id": "d6e19f81-1d83-4fa9-b0ba-bfd444d41590",
   "metadata": {
    "tags": []
   },
   "outputs": [
    {
     "data": {
      "image/png": "[encoded data removed]",
      "text/plain": [
       "<Figure size 2664x1440 with 1 Axes>"
      ]
     },
     "metadata": {
      "needs_background": "light"
     },
     "output_type": "display_data"
    }
   ],
   "source": [
    "org_df['Destination'].hist(bins=50,figsize =(37,20))\n",
    "plt.show()"
   ]
  },
  {
   "cell_type": "code",
   "execution_count": 26,
   "id": "3102d694-be5c-41bb-8012-3f01792bbb07",
   "metadata": {
    "tags": []
   },
   "outputs": [
    {
     "data": {
      "text/plain": [
       "44"
      ]
     },
     "execution_count": 26,
     "metadata": {},
     "output_type": "execute_result"
    }
   ],
   "source": [
    "org_df['journey_date'].nunique()"
   ]
  },
  {
   "cell_type": "code",
   "execution_count": 27,
   "id": "b3eeffbd-0b5d-495c-84e5-ad7fd3f74e9e",
   "metadata": {
    "tags": []
   },
   "outputs": [
    {
     "data": {
      "text/plain": [
       "18/05/2019    504\n",
       "6/06/2019     503\n",
       "21/05/2019    497\n",
       "9/06/2019     495\n",
       "12/06/2019    493\n",
       "9/05/2019     484\n",
       "21/03/2019    423\n",
       "15/05/2019    405\n",
       "27/05/2019    382\n",
       "27/06/2019    355\n",
       "24/06/2019    351\n",
       "1/06/2019     342\n",
       "3/06/2019     333\n",
       "15/06/2019    328\n",
       "24/03/2019    323\n",
       "6/03/2019     308\n",
       "27/03/2019    299\n",
       "24/05/2019    286\n",
       "6/05/2019     282\n",
       "1/05/2019     277\n",
       "12/05/2019    259\n",
       "1/04/2019     257\n",
       "3/03/2019     218\n",
       "9/03/2019     200\n",
       "15/03/2019    162\n",
       "18/03/2019    156\n",
       "01/03/2019    152\n",
       "12/03/2019    142\n",
       "9/04/2019     125\n",
       "3/04/2019     110\n",
       "21/06/2019    109\n",
       "18/06/2019    105\n",
       "09/03/2019    102\n",
       "6/04/2019     100\n",
       "03/03/2019     97\n",
       "06/03/2019     95\n",
       "27/04/2019     94\n",
       "24/04/2019     92\n",
       "3/05/2019      90\n",
       "15/04/2019     89\n",
       "21/04/2019     82\n",
       "18/04/2019     67\n",
       "12/04/2019     63\n",
       "1/03/2019      47\n",
       "Name: journey_date, dtype: int64"
      ]
     },
     "execution_count": 27,
     "metadata": {},
     "output_type": "execute_result"
    }
   ],
   "source": [
    "org_df['journey_date'].value_counts()"
   ]
  },
  {
   "cell_type": "code",
   "execution_count": 28,
   "id": "a5cf9d3f-f3ab-4f91-820d-ed67ff12d641",
   "metadata": {
    "tags": []
   },
   "outputs": [
    {
     "data": {
      "text/plain": [
       "222"
      ]
     },
     "execution_count": 28,
     "metadata": {},
     "output_type": "execute_result"
    }
   ],
   "source": [
    "dep_time = org_df['Dep_Time']\n",
    "dep_time.nunique()"
   ]
  },
  {
   "cell_type": "code",
   "execution_count": 29,
   "id": "e3028ffd-a88e-4a8c-a673-f795ddf2e397",
   "metadata": {
    "tags": []
   },
   "outputs": [
    {
     "data": {
      "text/plain": [
       "1343"
      ]
     },
     "execution_count": 29,
     "metadata": {},
     "output_type": "execute_result"
    }
   ],
   "source": [
    "org_df['Arrival_Time'].nunique()"
   ]
  },
  {
   "cell_type": "code",
   "execution_count": 30,
   "id": "cb796712-47d1-4d97-bfac-1986e342ae45",
   "metadata": {
    "tags": []
   },
   "outputs": [
    {
     "data": {
      "text/plain": [
       "19:00           423\n",
       "21:00           360\n",
       "19:15           333\n",
       "16:10           154\n",
       "12:35           122\n",
       "               ... \n",
       "00:25 02 Jun      1\n",
       "08:55 13 Mar      1\n",
       "11:05 19 May      1\n",
       "12:30 22 May      1\n",
       "21:20 13 Mar      1\n",
       "Name: Arrival_Time, Length: 1343, dtype: int64"
      ]
     },
     "execution_count": 30,
     "metadata": {},
     "output_type": "execute_result"
    }
   ],
   "source": [
    "org_df[\"Arrival_Time\"].value_counts()"
   ]
  },
  {
   "cell_type": "code",
   "execution_count": 31,
   "id": "6f574d08-f28c-4fe2-b0c7-dc8d3fe5af87",
   "metadata": {
    "tags": []
   },
   "outputs": [
    {
     "data": {
      "text/plain": [
       "222"
      ]
     },
     "execution_count": 31,
     "metadata": {},
     "output_type": "execute_result"
    }
   ],
   "source": [
    "org_df['Dep_Time'].nunique()"
   ]
  },
  {
   "cell_type": "code",
   "execution_count": 32,
   "id": "f5bc47af-ad07-4e2b-a02f-4d3cbe48273b",
   "metadata": {
    "tags": []
   },
   "outputs": [
    {
     "data": {
      "text/plain": [
       "368"
      ]
     },
     "execution_count": 32,
     "metadata": {},
     "output_type": "execute_result"
    }
   ],
   "source": [
    "org_df['Duration'].nunique()"
   ]
  },
  {
   "cell_type": "code",
   "execution_count": 33,
   "id": "5b6ade4d-2147-4a80-86e2-a4f725682bb3",
   "metadata": {
    "tags": []
   },
   "outputs": [
    {
     "data": {
      "text/plain": [
       "5"
      ]
     },
     "execution_count": 33,
     "metadata": {},
     "output_type": "execute_result"
    }
   ],
   "source": [
    "org_df['Total_Stops'].nunique()"
   ]
  },
  {
   "cell_type": "code",
   "execution_count": 34,
   "id": "09cb71d2-a406-425f-a09f-44da20d5a4d9",
   "metadata": {
    "tags": []
   },
   "outputs": [
    {
     "data": {
      "text/plain": [
       "1870"
      ]
     },
     "execution_count": 34,
     "metadata": {},
     "output_type": "execute_result"
    }
   ],
   "source": [
    "org_df['Price'].nunique()"
   ]
  },
  {
   "cell_type": "code",
   "execution_count": 35,
   "id": "dd36e5d8-a0d4-4807-b747-d0db35b8e030",
   "metadata": {
    "tags": []
   },
   "outputs": [
    {
     "name": "stdout",
     "output_type": "stream",
     "text": [
      "79513   1760   8373.0\n"
     ]
    }
   ],
   "source": [
    "print(org_df['Price'].max(), \" \", org_df['Price'].min(), \" \", org_df['Price'].median())"
   ]
  },
  {
   "cell_type": "code",
   "execution_count": 36,
   "id": "87bd2af2-bfb0-45d4-a687-2bbee9f09ee3",
   "metadata": {
    "tags": []
   },
   "outputs": [
    {
     "data": {
      "text/plain": [
       "'00:20'"
      ]
     },
     "execution_count": 36,
     "metadata": {},
     "output_type": "execute_result"
    }
   ],
   "source": [
    "org_df[\"Dep_Time\"].min()"
   ]
  },
  {
   "cell_type": "code",
   "execution_count": 37,
   "id": "85bd8a3e-baa7-4541-a8be-d0fa49c63507",
   "metadata": {
    "tags": []
   },
   "outputs": [
    {
     "data": {
      "text/plain": [
       "10"
      ]
     },
     "execution_count": 37,
     "metadata": {},
     "output_type": "execute_result"
    }
   ],
   "source": [
    "org_df['Additional Info'].nunique()"
   ]
  },
  {
   "cell_type": "code",
   "execution_count": 38,
   "id": "819ed136-a99f-4246-8292-a27e12e17bac",
   "metadata": {
    "tags": []
   },
   "outputs": [
    {
     "data": {
      "text/plain": [
       "No info                         8345\n",
       "In-flight meal not included     1982\n",
       "No check-in baggage included     320\n",
       "1 Long layover                    19\n",
       "Change airports                    7\n",
       "Business class                     4\n",
       "No Info                            3\n",
       "1 Short layover                    1\n",
       "Red-eye flight                     1\n",
       "2 Long layover                     1\n",
       "Name: Additional Info, dtype: int64"
      ]
     },
     "execution_count": 38,
     "metadata": {},
     "output_type": "execute_result"
    }
   ],
   "source": [
    "org_df[\"Additional Info\"].value_counts()"
   ]
  },
  {
   "cell_type": "code",
   "execution_count": 39,
   "id": "17f7bd98-3e1a-4d03-93dd-b8aece3616e4",
   "metadata": {
    "tags": []
   },
   "outputs": [
    {
     "data": {
      "text/plain": [
       "5"
      ]
     },
     "execution_count": 39,
     "metadata": {},
     "output_type": "execute_result"
    }
   ],
   "source": [
    "org_df[\"Total_Stops\"].nunique()"
   ]
  },
  {
   "cell_type": "code",
   "execution_count": 40,
   "id": "424213ec-4ec9-4207-a7bd-9531a906e7f7",
   "metadata": {
    "tags": []
   },
   "outputs": [
    {
     "data": {
      "text/plain": [
       "20-May-87       1\n",
       "15-Oct-09       1\n",
       "4-Nov-09        1\n",
       "3-Nov-09        1\n",
       "2-Nov-09        1\n",
       "               ..\n",
       "4-Aug-98        1\n",
       "3-Aug-98        1\n",
       "31-Jul-98       1\n",
       "30-Jul-98       1\n",
       "Jan 25, 2021    1\n",
       "Name: Date, Length: 8554, dtype: int64"
      ]
     },
     "execution_count": 40,
     "metadata": {},
     "output_type": "execute_result"
    }
   ],
   "source": [
    "alt_df[\"Date\"].value_counts()  "
   ]
  },
  {
   "cell_type": "code",
   "execution_count": 41,
   "id": "e434d4d8-fdda-47f4-ae2f-7e3782dd1a0b",
   "metadata": {
    "tags": []
   },
   "outputs": [
    {
     "data": {
      "text/plain": [
       "8554"
      ]
     },
     "execution_count": 41,
     "metadata": {},
     "output_type": "execute_result"
    }
   ],
   "source": [
    "alt_df[\"Date\"].nunique()"
   ]
  },
  {
   "cell_type": "code",
   "execution_count": 42,
   "id": "fac08a2f-646f-4655-8dae-96e545a5d4df",
   "metadata": {
    "tags": []
   },
   "outputs": [
    {
     "name": "stdout",
     "output_type": "stream",
     "text": [
      "143.95   9.1   33.24\n"
     ]
    }
   ],
   "source": [
    "print(alt_df['Price'].max(), \" \", alt_df['Price'].min(), \" \", alt_df['Price'].median())"
   ]
  },
  {
   "cell_type": "markdown",
   "id": "dd44aab8-10dc-4e7a-80a1-1bfc74d5d1ca",
   "metadata": {
    "tags": []
   },
   "source": [
    "## Airfare Prediction Variable Dictionary:\n",
    "- **Airline**: This is described as the aviation transportation company that the customers uses in order to travel to their desired destination. This is classified as a categorical variable as it describes the different airlines available. There are 12 levels present each revealing an airline. \n",
    "- **Route**: This is described as the route that the airline uses to arrive at the customers desired destination. This is classified as a categorical variable as it describes the unique route taken by the airplane. There are 128 levels present each revealing a different route taken by the airline.\n",
    "- **Source**: This is describes as the home city from which the customers travel from. This is classified as a categorical variable and there are 5 levels present in the dataset, each describing the difference source cities.\n",
    "- **Destination**: This is described as the destination city where the customers travel to. This is classified as a categorical variable and there are 6 levels present in the dataset, each describing the different destination cities.\n",
    "- **Jounrey_date**: This is descibed as the date of which the flight travel takes place for the customer. It is a categorical variable and there are 44 levels present in the dataset.\n",
    "- **Price**: This is described as the price for the plane ticket. It is a numerical variable and has a max of 79513, a minimum of 1760, and a median of 8373.\n",
    "- **Arrival_Time**: This is described as the time when the plane will arrive at the customer's destination. It is a categorical variable and there are 1343 levels present in the dataset.\n",
    "- **Dep_Time**: Time when the plane departs from the source city. This variable is categorical and contains 222 levels.\n",
    "- **Duration**: Time it takes to get to destination from the source city.  This variable is a categorical variable and contains 368 unique levels.\n",
    "- **Additional Info**: Information concerning details of the flight such as if there were any layovers, or the specific airport utilized by the airline. This is a categorical variable and it contains 10 unique levels.\n",
    "- **Total_Stops**: Total amount of stops before arriving to destination city. This is a categorical variable and contains 5 levels."
   ]
  },
  {
   "cell_type": "markdown",
   "id": "f6d8799b-ef36-4517-986d-adb67bd75315",
   "metadata": {},
   "source": [
    "## Brent Oil Prices Dictionary:\n",
    "- **Date**: This is described as the current date of a corresponding oil price. It is a categorical variable and contains 8554 unique levels.\n",
    "- **Price**: This is described as the price or cost of an oil barrel. It is a numerical variable and has a max of 143.95, a min of 9.1, and a median of 33.24\n"
   ]
  },
  {
   "cell_type": "markdown",
   "id": "e3afbb04-3bee-4c47-b4ba-d2bfc247492a",
   "metadata": {
    "tags": []
   },
   "source": [
    "### Part 4 - Merge the data\n",
    "\n",
    "Now that you have a better feel for each of your two (or three, for the 7394 students) data sets, it is time to merge them. Describe your strategy for merging the data sets and then actually perform the merge.  \n",
    "\n",
    "Develop a strategy for verifying that the data is properly merged (hoping and finger-crossing are not valid strategies). "
   ]
  },
  {
   "cell_type": "markdown",
   "id": "e4921a39-c3ca-4fd9-bb4f-0eb8cb0339c7",
   "metadata": {},
   "source": [
    "## Strategy for merging data:\n",
    "My strategy is to first change the format of both the \"journey_date\" from the Airfare Prediction dataset and the \"Date\" from the Bren Oil dataset into the same format. I will probably need to use pandas **To_datetime** method in order to convert the object dataypes. From there, I will create a function that iterates through both columns. If both dates match, the function will append an \"Oil_Price\" to that specific row of the Airfare dataset, if not, the function will continue iterating to find more matches.\n",
    "\n"
   ]
  },
  {
   "cell_type": "code",
   "execution_count": 43,
   "id": "2722ca64-8dc5-4b72-8a6e-ba832bf3c512",
   "metadata": {},
   "outputs": [
    {
     "data": {
      "text/html": [
       "<div>\n",
       "<style scoped>\n",
       "    .dataframe tbody tr th:only-of-type {\n",
       "        vertical-align: middle;\n",
       "    }\n",
       "\n",
       "    .dataframe tbody tr th {\n",
       "        vertical-align: top;\n",
       "    }\n",
       "\n",
       "    .dataframe thead th {\n",
       "        text-align: right;\n",
       "    }\n",
       "</style>\n",
       "<table border=\"1\" class=\"dataframe\">\n",
       "  <thead>\n",
       "    <tr style=\"text-align: right;\">\n",
       "      <th></th>\n",
       "      <th>Airline</th>\n",
       "      <th>Source</th>\n",
       "      <th>Destination</th>\n",
       "      <th>Route</th>\n",
       "      <th>Dep_Time</th>\n",
       "      <th>Arrival_Time</th>\n",
       "      <th>Duration</th>\n",
       "      <th>Total_Stops</th>\n",
       "      <th>Additional Info</th>\n",
       "      <th>Price</th>\n",
       "      <th>journey_date</th>\n",
       "    </tr>\n",
       "  </thead>\n",
       "  <tbody>\n",
       "    <tr>\n",
       "      <th>0</th>\n",
       "      <td>IndiGo</td>\n",
       "      <td>Banglore</td>\n",
       "      <td>New Delhi</td>\n",
       "      <td>BLR → DEL</td>\n",
       "      <td>22:20</td>\n",
       "      <td>01:10 22 Mar</td>\n",
       "      <td>2h 50m</td>\n",
       "      <td>non-stop</td>\n",
       "      <td>No info</td>\n",
       "      <td>3898</td>\n",
       "      <td>24/03/2019</td>\n",
       "    </tr>\n",
       "    <tr>\n",
       "      <th>1</th>\n",
       "      <td>Air India</td>\n",
       "      <td>Kolkata</td>\n",
       "      <td>Banglore</td>\n",
       "      <td>CCU → IXR → BBI → BLR</td>\n",
       "      <td>05:50</td>\n",
       "      <td>13:15</td>\n",
       "      <td>7h 25m</td>\n",
       "      <td>2 stops</td>\n",
       "      <td>No info</td>\n",
       "      <td>7663</td>\n",
       "      <td>1/05/2019</td>\n",
       "    </tr>\n",
       "    <tr>\n",
       "      <th>2</th>\n",
       "      <td>Jet Airways</td>\n",
       "      <td>Delhi</td>\n",
       "      <td>Cochin</td>\n",
       "      <td>DEL → LKO → BOM → COK</td>\n",
       "      <td>09:25</td>\n",
       "      <td>04:25 10 Jun</td>\n",
       "      <td>19h</td>\n",
       "      <td>2 stops</td>\n",
       "      <td>No info</td>\n",
       "      <td>13883</td>\n",
       "      <td>9/06/2019</td>\n",
       "    </tr>\n",
       "    <tr>\n",
       "      <th>3</th>\n",
       "      <td>IndiGo</td>\n",
       "      <td>Kolkata</td>\n",
       "      <td>Banglore</td>\n",
       "      <td>CCU → NAG → BLR</td>\n",
       "      <td>18:05</td>\n",
       "      <td>23:30</td>\n",
       "      <td>5h 25m</td>\n",
       "      <td>1 stop</td>\n",
       "      <td>No info</td>\n",
       "      <td>6219</td>\n",
       "      <td>12/05/2019</td>\n",
       "    </tr>\n",
       "    <tr>\n",
       "      <th>4</th>\n",
       "      <td>IndiGo</td>\n",
       "      <td>Banglore</td>\n",
       "      <td>New Delhi</td>\n",
       "      <td>BLR → NAG → DEL</td>\n",
       "      <td>16:50</td>\n",
       "      <td>21:35</td>\n",
       "      <td>4h 45m</td>\n",
       "      <td>1 stop</td>\n",
       "      <td>No info</td>\n",
       "      <td>13303</td>\n",
       "      <td>01/03/2019</td>\n",
       "    </tr>\n",
       "  </tbody>\n",
       "</table>\n",
       "</div>"
      ],
      "text/plain": [
       "       Airline    Source Destination                  Route Dep_Time  \\\n",
       "0       IndiGo  Banglore   New Delhi              BLR → DEL    22:20   \n",
       "1    Air India   Kolkata    Banglore  CCU → IXR → BBI → BLR    05:50   \n",
       "2  Jet Airways     Delhi      Cochin  DEL → LKO → BOM → COK    09:25   \n",
       "3       IndiGo   Kolkata    Banglore        CCU → NAG → BLR    18:05   \n",
       "4       IndiGo  Banglore   New Delhi        BLR → NAG → DEL    16:50   \n",
       "\n",
       "   Arrival_Time Duration Total_Stops Additional Info  Price journey_date  \n",
       "0  01:10 22 Mar   2h 50m    non-stop         No info   3898   24/03/2019  \n",
       "1         13:15   7h 25m     2 stops         No info   7663    1/05/2019  \n",
       "2  04:25 10 Jun      19h     2 stops         No info  13883    9/06/2019  \n",
       "3         23:30   5h 25m      1 stop         No info   6219   12/05/2019  \n",
       "4         21:35   4h 45m      1 stop         No info  13303   01/03/2019  "
      ]
     },
     "execution_count": 43,
     "metadata": {},
     "output_type": "execute_result"
    }
   ],
   "source": [
    "org_df.head()"
   ]
  },
  {
   "cell_type": "code",
   "execution_count": 44,
   "id": "88d3071d-b4f1-47e4-808a-7a1d7f5ebf6b",
   "metadata": {
    "tags": []
   },
   "outputs": [
    {
     "data": {
      "text/html": [
       "<div>\n",
       "<style scoped>\n",
       "    .dataframe tbody tr th:only-of-type {\n",
       "        vertical-align: middle;\n",
       "    }\n",
       "\n",
       "    .dataframe tbody tr th {\n",
       "        vertical-align: top;\n",
       "    }\n",
       "\n",
       "    .dataframe thead th {\n",
       "        text-align: right;\n",
       "    }\n",
       "</style>\n",
       "<table border=\"1\" class=\"dataframe\">\n",
       "  <thead>\n",
       "    <tr style=\"text-align: right;\">\n",
       "      <th></th>\n",
       "      <th>Date</th>\n",
       "      <th>Price</th>\n",
       "    </tr>\n",
       "  </thead>\n",
       "  <tbody>\n",
       "    <tr>\n",
       "      <th>0</th>\n",
       "      <td>20-May-87</td>\n",
       "      <td>18.63</td>\n",
       "    </tr>\n",
       "    <tr>\n",
       "      <th>1</th>\n",
       "      <td>21-May-87</td>\n",
       "      <td>18.45</td>\n",
       "    </tr>\n",
       "    <tr>\n",
       "      <th>2</th>\n",
       "      <td>22-May-87</td>\n",
       "      <td>18.55</td>\n",
       "    </tr>\n",
       "    <tr>\n",
       "      <th>3</th>\n",
       "      <td>25-May-87</td>\n",
       "      <td>18.60</td>\n",
       "    </tr>\n",
       "    <tr>\n",
       "      <th>4</th>\n",
       "      <td>26-May-87</td>\n",
       "      <td>18.63</td>\n",
       "    </tr>\n",
       "  </tbody>\n",
       "</table>\n",
       "</div>"
      ],
      "text/plain": [
       "        Date  Price\n",
       "0  20-May-87  18.63\n",
       "1  21-May-87  18.45\n",
       "2  22-May-87  18.55\n",
       "3  25-May-87  18.60\n",
       "4  26-May-87  18.63"
      ]
     },
     "execution_count": 44,
     "metadata": {},
     "output_type": "execute_result"
    }
   ],
   "source": [
    "alt_df[\"Date\"].nunique()\n",
    "alt_df.head()"
   ]
  },
  {
   "cell_type": "code",
   "execution_count": 45,
   "id": "1b37184b-1a20-48f4-9ce0-b84fa2fc6f84",
   "metadata": {
    "tags": []
   },
   "outputs": [],
   "source": [
    "import datetime\n",
    "num = 0\n",
    "for i in alt_df[\"Date\"]:\n",
    "    try:\n",
    "        word = datetime.datetime.strptime(i, \"%d-%b-%y\")\n",
    "        i = word.strftime(\"%d/%m/%Y\")\n",
    "        alt_df.loc[num, \"Date\"] = i\n",
    "        num = num + 1\n",
    "    except ValueError:\n",
    "        num = num + 1\n",
    "        continue\n",
    "#For loop changes all the Date variables into the same format as the format in journey date"
   ]
  },
  {
   "cell_type": "code",
   "execution_count": 46,
   "id": "49425391-706e-4241-888a-da45b48420e3",
   "metadata": {},
   "outputs": [
    {
     "data": {
      "text/html": [
       "<div>\n",
       "<style scoped>\n",
       "    .dataframe tbody tr th:only-of-type {\n",
       "        vertical-align: middle;\n",
       "    }\n",
       "\n",
       "    .dataframe tbody tr th {\n",
       "        vertical-align: top;\n",
       "    }\n",
       "\n",
       "    .dataframe thead th {\n",
       "        text-align: right;\n",
       "    }\n",
       "</style>\n",
       "<table border=\"1\" class=\"dataframe\">\n",
       "  <thead>\n",
       "    <tr style=\"text-align: right;\">\n",
       "      <th></th>\n",
       "      <th>Airline</th>\n",
       "      <th>Source</th>\n",
       "      <th>Destination</th>\n",
       "      <th>Route</th>\n",
       "      <th>Dep_Time</th>\n",
       "      <th>Arrival_Time</th>\n",
       "      <th>Duration</th>\n",
       "      <th>Total_Stops</th>\n",
       "      <th>Additional Info</th>\n",
       "      <th>Price_x</th>\n",
       "      <th>Date</th>\n",
       "      <th>Price_y</th>\n",
       "    </tr>\n",
       "  </thead>\n",
       "  <tbody>\n",
       "    <tr>\n",
       "      <th>0</th>\n",
       "      <td>IndiGo</td>\n",
       "      <td>Banglore</td>\n",
       "      <td>New Delhi</td>\n",
       "      <td>BLR → DEL</td>\n",
       "      <td>22:20</td>\n",
       "      <td>01:10 22 Mar</td>\n",
       "      <td>2h 50m</td>\n",
       "      <td>non-stop</td>\n",
       "      <td>No info</td>\n",
       "      <td>3898</td>\n",
       "      <td>24/03/2019</td>\n",
       "      <td>NaN</td>\n",
       "    </tr>\n",
       "    <tr>\n",
       "      <th>1</th>\n",
       "      <td>Air India</td>\n",
       "      <td>Kolkata</td>\n",
       "      <td>Banglore</td>\n",
       "      <td>CCU → IXR → BBI → BLR</td>\n",
       "      <td>05:50</td>\n",
       "      <td>13:15</td>\n",
       "      <td>7h 25m</td>\n",
       "      <td>2 stops</td>\n",
       "      <td>No info</td>\n",
       "      <td>7663</td>\n",
       "      <td>1/05/2019</td>\n",
       "      <td>NaN</td>\n",
       "    </tr>\n",
       "    <tr>\n",
       "      <th>2</th>\n",
       "      <td>Jet Airways</td>\n",
       "      <td>Delhi</td>\n",
       "      <td>Cochin</td>\n",
       "      <td>DEL → LKO → BOM → COK</td>\n",
       "      <td>09:25</td>\n",
       "      <td>04:25 10 Jun</td>\n",
       "      <td>19h</td>\n",
       "      <td>2 stops</td>\n",
       "      <td>No info</td>\n",
       "      <td>13883</td>\n",
       "      <td>9/06/2019</td>\n",
       "      <td>NaN</td>\n",
       "    </tr>\n",
       "    <tr>\n",
       "      <th>3</th>\n",
       "      <td>IndiGo</td>\n",
       "      <td>Kolkata</td>\n",
       "      <td>Banglore</td>\n",
       "      <td>CCU → NAG → BLR</td>\n",
       "      <td>18:05</td>\n",
       "      <td>23:30</td>\n",
       "      <td>5h 25m</td>\n",
       "      <td>1 stop</td>\n",
       "      <td>No info</td>\n",
       "      <td>6219</td>\n",
       "      <td>12/05/2019</td>\n",
       "      <td>NaN</td>\n",
       "    </tr>\n",
       "    <tr>\n",
       "      <th>4</th>\n",
       "      <td>IndiGo</td>\n",
       "      <td>Banglore</td>\n",
       "      <td>New Delhi</td>\n",
       "      <td>BLR → NAG → DEL</td>\n",
       "      <td>16:50</td>\n",
       "      <td>21:35</td>\n",
       "      <td>4h 45m</td>\n",
       "      <td>1 stop</td>\n",
       "      <td>No info</td>\n",
       "      <td>13303</td>\n",
       "      <td>01/03/2019</td>\n",
       "      <td>63.71</td>\n",
       "    </tr>\n",
       "  </tbody>\n",
       "</table>\n",
       "</div>"
      ],
      "text/plain": [
       "       Airline    Source Destination                  Route Dep_Time  \\\n",
       "0       IndiGo  Banglore   New Delhi              BLR → DEL    22:20   \n",
       "1    Air India   Kolkata    Banglore  CCU → IXR → BBI → BLR    05:50   \n",
       "2  Jet Airways     Delhi      Cochin  DEL → LKO → BOM → COK    09:25   \n",
       "3       IndiGo   Kolkata    Banglore        CCU → NAG → BLR    18:05   \n",
       "4       IndiGo  Banglore   New Delhi        BLR → NAG → DEL    16:50   \n",
       "\n",
       "   Arrival_Time Duration Total_Stops Additional Info  Price_x        Date  \\\n",
       "0  01:10 22 Mar   2h 50m    non-stop         No info     3898  24/03/2019   \n",
       "1         13:15   7h 25m     2 stops         No info     7663   1/05/2019   \n",
       "2  04:25 10 Jun      19h     2 stops         No info    13883   9/06/2019   \n",
       "3         23:30   5h 25m      1 stop         No info     6219  12/05/2019   \n",
       "4         21:35   4h 45m      1 stop         No info    13303  01/03/2019   \n",
       "\n",
       "   Price_y  \n",
       "0      NaN  \n",
       "1      NaN  \n",
       "2      NaN  \n",
       "3      NaN  \n",
       "4    63.71  "
      ]
     },
     "execution_count": 46,
     "metadata": {},
     "output_type": "execute_result"
    }
   ],
   "source": [
    "org_df = org_df.rename(columns={'journey_date':'Date'})\n",
    "org_df = pd.merge(org_df, alt_df, how='left',on='Date')\n",
    "org_df.head()\n",
    "#Merging the two datasets based on date"
   ]
  },
  {
   "cell_type": "code",
   "execution_count": 47,
   "id": "fdbf6560-c610-4d06-9abe-cbfef10aec3f",
   "metadata": {},
   "outputs": [],
   "source": [
    "from sklearn.impute import SimpleImputer\n",
    "imputer = SimpleImputer(strategy=\"median\")\n",
    "#imputing the oil price dataset for null values"
   ]
  },
  {
   "cell_type": "code",
   "execution_count": 48,
   "id": "2aefbe6e-8043-409d-84a4-830f011001bc",
   "metadata": {},
   "outputs": [],
   "source": [
    "column = [\"Price_y\"]\n",
    "org_df[column] = imputer.fit_transform(org_df[column])"
   ]
  },
  {
   "cell_type": "code",
   "execution_count": 49,
   "id": "51efe28b-953d-4dd2-917a-5429f12c2b0c",
   "metadata": {},
   "outputs": [
    {
     "data": {
      "text/plain": [
       "array([67.35])"
      ]
     },
     "execution_count": 49,
     "metadata": {},
     "output_type": "execute_result"
    }
   ],
   "source": [
    "imputer.statistics_"
   ]
  },
  {
   "cell_type": "code",
   "execution_count": 50,
   "id": "26c59e3d-77e8-43fb-97c1-fcea612da6da",
   "metadata": {
    "tags": []
   },
   "outputs": [
    {
     "data": {
      "text/html": [
       "<div>\n",
       "<style scoped>\n",
       "    .dataframe tbody tr th:only-of-type {\n",
       "        vertical-align: middle;\n",
       "    }\n",
       "\n",
       "    .dataframe tbody tr th {\n",
       "        vertical-align: top;\n",
       "    }\n",
       "\n",
       "    .dataframe thead th {\n",
       "        text-align: right;\n",
       "    }\n",
       "</style>\n",
       "<table border=\"1\" class=\"dataframe\">\n",
       "  <thead>\n",
       "    <tr style=\"text-align: right;\">\n",
       "      <th></th>\n",
       "      <th>Airline</th>\n",
       "      <th>Source</th>\n",
       "      <th>Destination</th>\n",
       "      <th>Route</th>\n",
       "      <th>Dep_Time</th>\n",
       "      <th>Arrival_Time</th>\n",
       "      <th>Duration</th>\n",
       "      <th>Total_Stops</th>\n",
       "      <th>Additional Info</th>\n",
       "      <th>Price_x</th>\n",
       "      <th>Date</th>\n",
       "      <th>Price_y</th>\n",
       "    </tr>\n",
       "  </thead>\n",
       "  <tbody>\n",
       "    <tr>\n",
       "      <th>0</th>\n",
       "      <td>IndiGo</td>\n",
       "      <td>Banglore</td>\n",
       "      <td>New Delhi</td>\n",
       "      <td>BLR → DEL</td>\n",
       "      <td>22:20</td>\n",
       "      <td>01:10 22 Mar</td>\n",
       "      <td>2h 50m</td>\n",
       "      <td>non-stop</td>\n",
       "      <td>No info</td>\n",
       "      <td>3898</td>\n",
       "      <td>24/03/2019</td>\n",
       "      <td>67.35</td>\n",
       "    </tr>\n",
       "    <tr>\n",
       "      <th>1</th>\n",
       "      <td>Air India</td>\n",
       "      <td>Kolkata</td>\n",
       "      <td>Banglore</td>\n",
       "      <td>CCU → IXR → BBI → BLR</td>\n",
       "      <td>05:50</td>\n",
       "      <td>13:15</td>\n",
       "      <td>7h 25m</td>\n",
       "      <td>2 stops</td>\n",
       "      <td>No info</td>\n",
       "      <td>7663</td>\n",
       "      <td>1/05/2019</td>\n",
       "      <td>67.35</td>\n",
       "    </tr>\n",
       "    <tr>\n",
       "      <th>2</th>\n",
       "      <td>Jet Airways</td>\n",
       "      <td>Delhi</td>\n",
       "      <td>Cochin</td>\n",
       "      <td>DEL → LKO → BOM → COK</td>\n",
       "      <td>09:25</td>\n",
       "      <td>04:25 10 Jun</td>\n",
       "      <td>19h</td>\n",
       "      <td>2 stops</td>\n",
       "      <td>No info</td>\n",
       "      <td>13883</td>\n",
       "      <td>9/06/2019</td>\n",
       "      <td>67.35</td>\n",
       "    </tr>\n",
       "    <tr>\n",
       "      <th>3</th>\n",
       "      <td>IndiGo</td>\n",
       "      <td>Kolkata</td>\n",
       "      <td>Banglore</td>\n",
       "      <td>CCU → NAG → BLR</td>\n",
       "      <td>18:05</td>\n",
       "      <td>23:30</td>\n",
       "      <td>5h 25m</td>\n",
       "      <td>1 stop</td>\n",
       "      <td>No info</td>\n",
       "      <td>6219</td>\n",
       "      <td>12/05/2019</td>\n",
       "      <td>67.35</td>\n",
       "    </tr>\n",
       "    <tr>\n",
       "      <th>4</th>\n",
       "      <td>IndiGo</td>\n",
       "      <td>Banglore</td>\n",
       "      <td>New Delhi</td>\n",
       "      <td>BLR → NAG → DEL</td>\n",
       "      <td>16:50</td>\n",
       "      <td>21:35</td>\n",
       "      <td>4h 45m</td>\n",
       "      <td>1 stop</td>\n",
       "      <td>No info</td>\n",
       "      <td>13303</td>\n",
       "      <td>01/03/2019</td>\n",
       "      <td>63.71</td>\n",
       "    </tr>\n",
       "  </tbody>\n",
       "</table>\n",
       "</div>"
      ],
      "text/plain": [
       "       Airline    Source Destination                  Route Dep_Time  \\\n",
       "0       IndiGo  Banglore   New Delhi              BLR → DEL    22:20   \n",
       "1    Air India   Kolkata    Banglore  CCU → IXR → BBI → BLR    05:50   \n",
       "2  Jet Airways     Delhi      Cochin  DEL → LKO → BOM → COK    09:25   \n",
       "3       IndiGo   Kolkata    Banglore        CCU → NAG → BLR    18:05   \n",
       "4       IndiGo  Banglore   New Delhi        BLR → NAG → DEL    16:50   \n",
       "\n",
       "   Arrival_Time Duration Total_Stops Additional Info  Price_x        Date  \\\n",
       "0  01:10 22 Mar   2h 50m    non-stop         No info     3898  24/03/2019   \n",
       "1         13:15   7h 25m     2 stops         No info     7663   1/05/2019   \n",
       "2  04:25 10 Jun      19h     2 stops         No info    13883   9/06/2019   \n",
       "3         23:30   5h 25m      1 stop         No info     6219  12/05/2019   \n",
       "4         21:35   4h 45m      1 stop         No info    13303  01/03/2019   \n",
       "\n",
       "   Price_y  \n",
       "0    67.35  \n",
       "1    67.35  \n",
       "2    67.35  \n",
       "3    67.35  \n",
       "4    63.71  "
      ]
     },
     "execution_count": 50,
     "metadata": {},
     "output_type": "execute_result"
    }
   ],
   "source": [
    "org_df.head()"
   ]
  },
  {
   "cell_type": "code",
   "execution_count": 51,
   "id": "a96b0a54-7f1c-4b4b-9a5a-b880bc9d878f",
   "metadata": {},
   "outputs": [],
   "source": [
    "org_df = org_df.rename(columns={\"Price_y\" : \"Oil_Price\"})\n",
    "org_df = org_df.rename(columns={\"Price_x\" : \"Airline_Price\"})\n",
    "#Change the name of Price_x and Price_y to its respected names"
   ]
  },
  {
   "cell_type": "code",
   "execution_count": 52,
   "id": "0ab5d6a3-2022-4de4-92e7-c4e165b78ee9",
   "metadata": {},
   "outputs": [
    {
     "name": "stdout",
     "output_type": "stream",
     "text": [
      "<class 'pandas.core.frame.DataFrame'>\n",
      "Int64Index: 10683 entries, 0 to 10682\n",
      "Data columns (total 12 columns):\n",
      " #   Column           Non-Null Count  Dtype  \n",
      "---  ------           --------------  -----  \n",
      " 0   Airline          10683 non-null  object \n",
      " 1   Source           10683 non-null  object \n",
      " 2   Destination      10683 non-null  object \n",
      " 3   Route            10682 non-null  object \n",
      " 4   Dep_Time         10683 non-null  object \n",
      " 5   Arrival_Time     10683 non-null  object \n",
      " 6   Duration         10683 non-null  object \n",
      " 7   Total_Stops      10682 non-null  object \n",
      " 8   Additional Info  10683 non-null  object \n",
      " 9   Airline_Price    10683 non-null  int64  \n",
      " 10  Date             10683 non-null  object \n",
      " 11  Oil_Price        10683 non-null  float64\n",
      "dtypes: float64(1), int64(1), object(10)\n",
      "memory usage: 1.1+ MB\n"
     ]
    },
    {
     "data": {
      "text/plain": [
       "Airline            0\n",
       "Source             0\n",
       "Destination        0\n",
       "Route              1\n",
       "Dep_Time           0\n",
       "Arrival_Time       0\n",
       "Duration           0\n",
       "Total_Stops        1\n",
       "Additional Info    0\n",
       "Airline_Price      0\n",
       "Date               0\n",
       "Oil_Price          0\n",
       "dtype: int64"
      ]
     },
     "execution_count": 52,
     "metadata": {},
     "output_type": "execute_result"
    }
   ],
   "source": [
    "org_df.info()\n",
    "org_df.isnull().sum()\n",
    "#We can see that all the values match up and that there are no longer any null values present within the merged dataset"
   ]
  },
  {
   "cell_type": "code",
   "execution_count": 53,
   "id": "62af503b-35d2-4d35-b76b-05ea29164211",
   "metadata": {},
   "outputs": [
    {
     "name": "stdout",
     "output_type": "stream",
     "text": [
      "<class 'pandas.core.frame.DataFrame'>\n",
      "Int64Index: 10682 entries, 0 to 10682\n",
      "Data columns (total 12 columns):\n",
      " #   Column           Non-Null Count  Dtype  \n",
      "---  ------           --------------  -----  \n",
      " 0   Airline          10682 non-null  object \n",
      " 1   Source           10682 non-null  object \n",
      " 2   Destination      10682 non-null  object \n",
      " 3   Route            10682 non-null  object \n",
      " 4   Dep_Time         10682 non-null  object \n",
      " 5   Arrival_Time     10682 non-null  object \n",
      " 6   Duration         10682 non-null  object \n",
      " 7   Total_Stops      10682 non-null  object \n",
      " 8   Additional Info  10682 non-null  object \n",
      " 9   Airline_Price    10682 non-null  int64  \n",
      " 10  Date             10682 non-null  object \n",
      " 11  Oil_Price        10682 non-null  float64\n",
      "dtypes: float64(1), int64(1), object(10)\n",
      "memory usage: 1.1+ MB\n"
     ]
    }
   ],
   "source": [
    "org_df = org_df.dropna(axis=0, how='any', thresh=None, subset=None, inplace=False)\n",
    "org_df.info()\n",
    "#Check to make sure the dataframe merged properly and also drop any missing values"
   ]
  },
  {
   "cell_type": "markdown",
   "id": "3063ca2e-ec1b-4799-bc76-4a464fc82921",
   "metadata": {
    "tags": []
   },
   "source": [
    "### Part 5 - Explore Bivariate relationships\n",
    "\n",
    "- Choose a reasoned set of variables to explore further.  You don't have to explore all possible pairs of variables, nor do we want to grade that much.  Choose 7 - 9 variables. One should be a variable that you'd like to predict (target variable) using the others (predictor variables). \n",
    "- List your predictor variables\n",
    "- List your target variable\n",
    "- Briefly describe why you have chosen these. \n",
    "\n",
    "Use any of the available visualizations from Seaborn to explore the relationships between the variables. Explore the relationships among the predictor variables as well as the relationship between each predictor variable and the target variable.  Which of the predictor variables are most strongly related?  Are there any interesting relationships between categorical predictors and numeric predictors?  If there are any dichotomous variables, does that influence any of the relationships? Are the relationships positive or negative? \n",
    "\n",
    "Below each plot, you should provide a description and interpretation of the plot.  Make sure to include why the variables in that plot were chosen and what you hope the reader would gain from it as well. "
   ]
  },
  {
   "cell_type": "markdown",
   "id": "988645f3-7ff0-4bfd-9ceb-057a4ba7338a",
   "metadata": {
    "tags": []
   },
   "source": [
    "## Variables Chosen:\n",
    "\n",
    ">1. Date(Predictor variable)\n",
    "      * Chose this variable because the date of the flight could ultimately impact the flight price.\n",
    "      * Ex: Flights during holidays such as Christmas and Thanksgiving are more expensive than flights during January - April\n",
    "      \n",
    ">2. Duration(Predictor variable)\n",
    "      * Chose this variable as a predictor because I believe the longer a flight takes to arrive at the destination, the higher the price of the airline flight\n",
    "\n",
    ">3. Total Stops(Predictor variable)\n",
    "      * Layover flights are usually cheaper than direct flights so I believed that the more stops there are, the cheaper the flight may be\n",
    "\n",
    ">4. Airline(Predictor variable)\n",
    "      * Chose this because an airline that has a better reputation may be more expensive than one that is not as well known\n",
    "\n",
    ">5. Departure Time(Predictor variable)\n",
    "      * Flights that are later in the day are may be more expensive than ones in the early mornings so I decided this variable may be a useful element for the ml algorithm\n",
    "\n",
    ">6. Oil Price(Predictor Variable)\n",
    "      * If the oil price at the time of the flight is more expensive, I belive that would reflect in the airline flight as the planes will pay a premium on fuel.\n",
    "\n",
    ">7. Price(Target variable)\n",
    "     * Chose this as a target variable because I felt it would be interesting to see the realtionships between an airline ticket and outside components that the common customer would not realize."
   ]
  },
  {
   "cell_type": "code",
   "execution_count": 54,
   "id": "f8839c5f-117d-40a3-bf0e-c1e9ecbf4c7f",
   "metadata": {},
   "outputs": [],
   "source": [
    "train_data = org_df.copy()\n",
    "#creating the training dataset"
   ]
  },
  {
   "cell_type": "code",
   "execution_count": 55,
   "id": "4f1b143c-775b-4065-b910-f5bb90081be3",
   "metadata": {
    "tags": []
   },
   "outputs": [
    {
     "data": {
      "text/html": [
       "<div>\n",
       "<style scoped>\n",
       "    .dataframe tbody tr th:only-of-type {\n",
       "        vertical-align: middle;\n",
       "    }\n",
       "\n",
       "    .dataframe tbody tr th {\n",
       "        vertical-align: top;\n",
       "    }\n",
       "\n",
       "    .dataframe thead th {\n",
       "        text-align: right;\n",
       "    }\n",
       "</style>\n",
       "<table border=\"1\" class=\"dataframe\">\n",
       "  <thead>\n",
       "    <tr style=\"text-align: right;\">\n",
       "      <th></th>\n",
       "      <th>Airline</th>\n",
       "      <th>Source</th>\n",
       "      <th>Destination</th>\n",
       "      <th>Route</th>\n",
       "      <th>Dep_Time</th>\n",
       "      <th>Arrival_Time</th>\n",
       "      <th>Duration</th>\n",
       "      <th>Total_Stops</th>\n",
       "      <th>Additional Info</th>\n",
       "      <th>Airline_Price</th>\n",
       "      <th>Date</th>\n",
       "      <th>Oil_Price</th>\n",
       "    </tr>\n",
       "  </thead>\n",
       "  <tbody>\n",
       "    <tr>\n",
       "      <th>0</th>\n",
       "      <td>IndiGo</td>\n",
       "      <td>Banglore</td>\n",
       "      <td>New Delhi</td>\n",
       "      <td>BLR → DEL</td>\n",
       "      <td>22:20</td>\n",
       "      <td>01:10 22 Mar</td>\n",
       "      <td>2h 50m</td>\n",
       "      <td>non-stop</td>\n",
       "      <td>No info</td>\n",
       "      <td>3898</td>\n",
       "      <td>24/03/2019</td>\n",
       "      <td>67.35</td>\n",
       "    </tr>\n",
       "    <tr>\n",
       "      <th>1</th>\n",
       "      <td>Air India</td>\n",
       "      <td>Kolkata</td>\n",
       "      <td>Banglore</td>\n",
       "      <td>CCU → IXR → BBI → BLR</td>\n",
       "      <td>05:50</td>\n",
       "      <td>13:15</td>\n",
       "      <td>7h 25m</td>\n",
       "      <td>2 stops</td>\n",
       "      <td>No info</td>\n",
       "      <td>7663</td>\n",
       "      <td>1/05/2019</td>\n",
       "      <td>67.35</td>\n",
       "    </tr>\n",
       "    <tr>\n",
       "      <th>2</th>\n",
       "      <td>Jet Airways</td>\n",
       "      <td>Delhi</td>\n",
       "      <td>Cochin</td>\n",
       "      <td>DEL → LKO → BOM → COK</td>\n",
       "      <td>09:25</td>\n",
       "      <td>04:25 10 Jun</td>\n",
       "      <td>19h</td>\n",
       "      <td>2 stops</td>\n",
       "      <td>No info</td>\n",
       "      <td>13883</td>\n",
       "      <td>9/06/2019</td>\n",
       "      <td>67.35</td>\n",
       "    </tr>\n",
       "    <tr>\n",
       "      <th>3</th>\n",
       "      <td>IndiGo</td>\n",
       "      <td>Kolkata</td>\n",
       "      <td>Banglore</td>\n",
       "      <td>CCU → NAG → BLR</td>\n",
       "      <td>18:05</td>\n",
       "      <td>23:30</td>\n",
       "      <td>5h 25m</td>\n",
       "      <td>1 stop</td>\n",
       "      <td>No info</td>\n",
       "      <td>6219</td>\n",
       "      <td>12/05/2019</td>\n",
       "      <td>67.35</td>\n",
       "    </tr>\n",
       "    <tr>\n",
       "      <th>4</th>\n",
       "      <td>IndiGo</td>\n",
       "      <td>Banglore</td>\n",
       "      <td>New Delhi</td>\n",
       "      <td>BLR → NAG → DEL</td>\n",
       "      <td>16:50</td>\n",
       "      <td>21:35</td>\n",
       "      <td>4h 45m</td>\n",
       "      <td>1 stop</td>\n",
       "      <td>No info</td>\n",
       "      <td>13303</td>\n",
       "      <td>01/03/2019</td>\n",
       "      <td>63.71</td>\n",
       "    </tr>\n",
       "  </tbody>\n",
       "</table>\n",
       "</div>"
      ],
      "text/plain": [
       "       Airline    Source Destination                  Route Dep_Time  \\\n",
       "0       IndiGo  Banglore   New Delhi              BLR → DEL    22:20   \n",
       "1    Air India   Kolkata    Banglore  CCU → IXR → BBI → BLR    05:50   \n",
       "2  Jet Airways     Delhi      Cochin  DEL → LKO → BOM → COK    09:25   \n",
       "3       IndiGo   Kolkata    Banglore        CCU → NAG → BLR    18:05   \n",
       "4       IndiGo  Banglore   New Delhi        BLR → NAG → DEL    16:50   \n",
       "\n",
       "   Arrival_Time Duration Total_Stops Additional Info  Airline_Price  \\\n",
       "0  01:10 22 Mar   2h 50m    non-stop         No info           3898   \n",
       "1         13:15   7h 25m     2 stops         No info           7663   \n",
       "2  04:25 10 Jun      19h     2 stops         No info          13883   \n",
       "3         23:30   5h 25m      1 stop         No info           6219   \n",
       "4         21:35   4h 45m      1 stop         No info          13303   \n",
       "\n",
       "         Date  Oil_Price  \n",
       "0  24/03/2019      67.35  \n",
       "1   1/05/2019      67.35  \n",
       "2   9/06/2019      67.35  \n",
       "3  12/05/2019      67.35  \n",
       "4  01/03/2019      63.71  "
      ]
     },
     "execution_count": 55,
     "metadata": {},
     "output_type": "execute_result"
    }
   ],
   "source": [
    "train_data.head()\n",
    "#Check to make sure the train_data copied all the contents of the original dataframe"
   ]
  },
  {
   "cell_type": "markdown",
   "id": "ad542b29-efd0-4725-a25e-a98ce0593181",
   "metadata": {},
   "source": [
    "We can see that Date, Dep_Time and Arrival_Time are all object types, therefore we need to convert them into a different form to use the columns for prediction"
   ]
  },
  {
   "cell_type": "code",
   "execution_count": 56,
   "id": "19f04281-a332-40dd-a60e-a998a6485795",
   "metadata": {},
   "outputs": [],
   "source": [
    "#Breaking Date variable into two different columns for the algorithm to better understand the data\n",
    "train_data[\"Journey_Day\"] = pd.to_datetime(train_data[\"Date\"], format=\"%d/%m/%Y\").dt.day\n",
    "train_data[\"Journey_Month\"] = pd.to_datetime(train_data[\"Date\"], format = \"%d/%m/%Y\").dt.month"
   ]
  },
  {
   "cell_type": "code",
   "execution_count": 57,
   "id": "90a754c3-0c06-499c-bb12-1124ad5ce081",
   "metadata": {
    "tags": []
   },
   "outputs": [
    {
     "data": {
      "text/html": [
       "<div>\n",
       "<style scoped>\n",
       "    .dataframe tbody tr th:only-of-type {\n",
       "        vertical-align: middle;\n",
       "    }\n",
       "\n",
       "    .dataframe tbody tr th {\n",
       "        vertical-align: top;\n",
       "    }\n",
       "\n",
       "    .dataframe thead th {\n",
       "        text-align: right;\n",
       "    }\n",
       "</style>\n",
       "<table border=\"1\" class=\"dataframe\">\n",
       "  <thead>\n",
       "    <tr style=\"text-align: right;\">\n",
       "      <th></th>\n",
       "      <th>Airline</th>\n",
       "      <th>Source</th>\n",
       "      <th>Destination</th>\n",
       "      <th>Route</th>\n",
       "      <th>Dep_Time</th>\n",
       "      <th>Arrival_Time</th>\n",
       "      <th>Duration</th>\n",
       "      <th>Total_Stops</th>\n",
       "      <th>Additional Info</th>\n",
       "      <th>Airline_Price</th>\n",
       "      <th>Date</th>\n",
       "      <th>Oil_Price</th>\n",
       "      <th>Journey_Day</th>\n",
       "      <th>Journey_Month</th>\n",
       "    </tr>\n",
       "  </thead>\n",
       "  <tbody>\n",
       "    <tr>\n",
       "      <th>0</th>\n",
       "      <td>IndiGo</td>\n",
       "      <td>Banglore</td>\n",
       "      <td>New Delhi</td>\n",
       "      <td>BLR → DEL</td>\n",
       "      <td>22:20</td>\n",
       "      <td>01:10 22 Mar</td>\n",
       "      <td>2h 50m</td>\n",
       "      <td>non-stop</td>\n",
       "      <td>No info</td>\n",
       "      <td>3898</td>\n",
       "      <td>24/03/2019</td>\n",
       "      <td>67.35</td>\n",
       "      <td>24</td>\n",
       "      <td>3</td>\n",
       "    </tr>\n",
       "    <tr>\n",
       "      <th>1</th>\n",
       "      <td>Air India</td>\n",
       "      <td>Kolkata</td>\n",
       "      <td>Banglore</td>\n",
       "      <td>CCU → IXR → BBI → BLR</td>\n",
       "      <td>05:50</td>\n",
       "      <td>13:15</td>\n",
       "      <td>7h 25m</td>\n",
       "      <td>2 stops</td>\n",
       "      <td>No info</td>\n",
       "      <td>7663</td>\n",
       "      <td>1/05/2019</td>\n",
       "      <td>67.35</td>\n",
       "      <td>1</td>\n",
       "      <td>5</td>\n",
       "    </tr>\n",
       "    <tr>\n",
       "      <th>2</th>\n",
       "      <td>Jet Airways</td>\n",
       "      <td>Delhi</td>\n",
       "      <td>Cochin</td>\n",
       "      <td>DEL → LKO → BOM → COK</td>\n",
       "      <td>09:25</td>\n",
       "      <td>04:25 10 Jun</td>\n",
       "      <td>19h</td>\n",
       "      <td>2 stops</td>\n",
       "      <td>No info</td>\n",
       "      <td>13883</td>\n",
       "      <td>9/06/2019</td>\n",
       "      <td>67.35</td>\n",
       "      <td>9</td>\n",
       "      <td>6</td>\n",
       "    </tr>\n",
       "    <tr>\n",
       "      <th>3</th>\n",
       "      <td>IndiGo</td>\n",
       "      <td>Kolkata</td>\n",
       "      <td>Banglore</td>\n",
       "      <td>CCU → NAG → BLR</td>\n",
       "      <td>18:05</td>\n",
       "      <td>23:30</td>\n",
       "      <td>5h 25m</td>\n",
       "      <td>1 stop</td>\n",
       "      <td>No info</td>\n",
       "      <td>6219</td>\n",
       "      <td>12/05/2019</td>\n",
       "      <td>67.35</td>\n",
       "      <td>12</td>\n",
       "      <td>5</td>\n",
       "    </tr>\n",
       "    <tr>\n",
       "      <th>4</th>\n",
       "      <td>IndiGo</td>\n",
       "      <td>Banglore</td>\n",
       "      <td>New Delhi</td>\n",
       "      <td>BLR → NAG → DEL</td>\n",
       "      <td>16:50</td>\n",
       "      <td>21:35</td>\n",
       "      <td>4h 45m</td>\n",
       "      <td>1 stop</td>\n",
       "      <td>No info</td>\n",
       "      <td>13303</td>\n",
       "      <td>01/03/2019</td>\n",
       "      <td>63.71</td>\n",
       "      <td>1</td>\n",
       "      <td>3</td>\n",
       "    </tr>\n",
       "  </tbody>\n",
       "</table>\n",
       "</div>"
      ],
      "text/plain": [
       "       Airline    Source Destination                  Route Dep_Time  \\\n",
       "0       IndiGo  Banglore   New Delhi              BLR → DEL    22:20   \n",
       "1    Air India   Kolkata    Banglore  CCU → IXR → BBI → BLR    05:50   \n",
       "2  Jet Airways     Delhi      Cochin  DEL → LKO → BOM → COK    09:25   \n",
       "3       IndiGo   Kolkata    Banglore        CCU → NAG → BLR    18:05   \n",
       "4       IndiGo  Banglore   New Delhi        BLR → NAG → DEL    16:50   \n",
       "\n",
       "   Arrival_Time Duration Total_Stops Additional Info  Airline_Price  \\\n",
       "0  01:10 22 Mar   2h 50m    non-stop         No info           3898   \n",
       "1         13:15   7h 25m     2 stops         No info           7663   \n",
       "2  04:25 10 Jun      19h     2 stops         No info          13883   \n",
       "3         23:30   5h 25m      1 stop         No info           6219   \n",
       "4         21:35   4h 45m      1 stop         No info          13303   \n",
       "\n",
       "         Date  Oil_Price  Journey_Day  Journey_Month  \n",
       "0  24/03/2019      67.35           24              3  \n",
       "1   1/05/2019      67.35            1              5  \n",
       "2   9/06/2019      67.35            9              6  \n",
       "3  12/05/2019      67.35           12              5  \n",
       "4  01/03/2019      63.71            1              3  "
      ]
     },
     "execution_count": 57,
     "metadata": {},
     "output_type": "execute_result"
    }
   ],
   "source": [
    "train_data.head()"
   ]
  },
  {
   "cell_type": "code",
   "execution_count": 58,
   "id": "a8d010b2-483e-431f-97da-2d3fb57afc1b",
   "metadata": {},
   "outputs": [],
   "source": [
    "train_data.drop([\"Date\"], axis = 1, inplace = True)"
   ]
  },
  {
   "cell_type": "code",
   "execution_count": 59,
   "id": "b584bceb-7a5b-4f5c-97f6-edd77c27c8aa",
   "metadata": {},
   "outputs": [],
   "source": [
    "train_data[\"Dep_Hour\"] = pd.to_datetime(train_data[\"Dep_Time\"]).dt.hour\n",
    "train_data[\"Dep_Min\"] = pd.to_datetime(train_data[\"Dep_Time\"]).dt.minute\n",
    "train_data.drop([\"Dep_Time\"], axis = 1, inplace = True)"
   ]
  },
  {
   "cell_type": "code",
   "execution_count": 60,
   "id": "143db2cf-9ffc-429f-bcd0-028043c28ed0",
   "metadata": {},
   "outputs": [
    {
     "data": {
      "text/html": [
       "<div>\n",
       "<style scoped>\n",
       "    .dataframe tbody tr th:only-of-type {\n",
       "        vertical-align: middle;\n",
       "    }\n",
       "\n",
       "    .dataframe tbody tr th {\n",
       "        vertical-align: top;\n",
       "    }\n",
       "\n",
       "    .dataframe thead th {\n",
       "        text-align: right;\n",
       "    }\n",
       "</style>\n",
       "<table border=\"1\" class=\"dataframe\">\n",
       "  <thead>\n",
       "    <tr style=\"text-align: right;\">\n",
       "      <th></th>\n",
       "      <th>Airline</th>\n",
       "      <th>Source</th>\n",
       "      <th>Destination</th>\n",
       "      <th>Route</th>\n",
       "      <th>Arrival_Time</th>\n",
       "      <th>Duration</th>\n",
       "      <th>Total_Stops</th>\n",
       "      <th>Additional Info</th>\n",
       "      <th>Airline_Price</th>\n",
       "      <th>Oil_Price</th>\n",
       "      <th>Journey_Day</th>\n",
       "      <th>Journey_Month</th>\n",
       "      <th>Dep_Hour</th>\n",
       "      <th>Dep_Min</th>\n",
       "    </tr>\n",
       "  </thead>\n",
       "  <tbody>\n",
       "    <tr>\n",
       "      <th>0</th>\n",
       "      <td>IndiGo</td>\n",
       "      <td>Banglore</td>\n",
       "      <td>New Delhi</td>\n",
       "      <td>BLR → DEL</td>\n",
       "      <td>01:10 22 Mar</td>\n",
       "      <td>2h 50m</td>\n",
       "      <td>non-stop</td>\n",
       "      <td>No info</td>\n",
       "      <td>3898</td>\n",
       "      <td>67.35</td>\n",
       "      <td>24</td>\n",
       "      <td>3</td>\n",
       "      <td>22</td>\n",
       "      <td>20</td>\n",
       "    </tr>\n",
       "    <tr>\n",
       "      <th>1</th>\n",
       "      <td>Air India</td>\n",
       "      <td>Kolkata</td>\n",
       "      <td>Banglore</td>\n",
       "      <td>CCU → IXR → BBI → BLR</td>\n",
       "      <td>13:15</td>\n",
       "      <td>7h 25m</td>\n",
       "      <td>2 stops</td>\n",
       "      <td>No info</td>\n",
       "      <td>7663</td>\n",
       "      <td>67.35</td>\n",
       "      <td>1</td>\n",
       "      <td>5</td>\n",
       "      <td>5</td>\n",
       "      <td>50</td>\n",
       "    </tr>\n",
       "    <tr>\n",
       "      <th>2</th>\n",
       "      <td>Jet Airways</td>\n",
       "      <td>Delhi</td>\n",
       "      <td>Cochin</td>\n",
       "      <td>DEL → LKO → BOM → COK</td>\n",
       "      <td>04:25 10 Jun</td>\n",
       "      <td>19h</td>\n",
       "      <td>2 stops</td>\n",
       "      <td>No info</td>\n",
       "      <td>13883</td>\n",
       "      <td>67.35</td>\n",
       "      <td>9</td>\n",
       "      <td>6</td>\n",
       "      <td>9</td>\n",
       "      <td>25</td>\n",
       "    </tr>\n",
       "    <tr>\n",
       "      <th>3</th>\n",
       "      <td>IndiGo</td>\n",
       "      <td>Kolkata</td>\n",
       "      <td>Banglore</td>\n",
       "      <td>CCU → NAG → BLR</td>\n",
       "      <td>23:30</td>\n",
       "      <td>5h 25m</td>\n",
       "      <td>1 stop</td>\n",
       "      <td>No info</td>\n",
       "      <td>6219</td>\n",
       "      <td>67.35</td>\n",
       "      <td>12</td>\n",
       "      <td>5</td>\n",
       "      <td>18</td>\n",
       "      <td>5</td>\n",
       "    </tr>\n",
       "    <tr>\n",
       "      <th>4</th>\n",
       "      <td>IndiGo</td>\n",
       "      <td>Banglore</td>\n",
       "      <td>New Delhi</td>\n",
       "      <td>BLR → NAG → DEL</td>\n",
       "      <td>21:35</td>\n",
       "      <td>4h 45m</td>\n",
       "      <td>1 stop</td>\n",
       "      <td>No info</td>\n",
       "      <td>13303</td>\n",
       "      <td>63.71</td>\n",
       "      <td>1</td>\n",
       "      <td>3</td>\n",
       "      <td>16</td>\n",
       "      <td>50</td>\n",
       "    </tr>\n",
       "  </tbody>\n",
       "</table>\n",
       "</div>"
      ],
      "text/plain": [
       "       Airline    Source Destination                  Route  Arrival_Time  \\\n",
       "0       IndiGo  Banglore   New Delhi              BLR → DEL  01:10 22 Mar   \n",
       "1    Air India   Kolkata    Banglore  CCU → IXR → BBI → BLR         13:15   \n",
       "2  Jet Airways     Delhi      Cochin  DEL → LKO → BOM → COK  04:25 10 Jun   \n",
       "3       IndiGo   Kolkata    Banglore        CCU → NAG → BLR         23:30   \n",
       "4       IndiGo  Banglore   New Delhi        BLR → NAG → DEL         21:35   \n",
       "\n",
       "  Duration Total_Stops Additional Info  Airline_Price  Oil_Price  Journey_Day  \\\n",
       "0   2h 50m    non-stop         No info           3898      67.35           24   \n",
       "1   7h 25m     2 stops         No info           7663      67.35            1   \n",
       "2      19h     2 stops         No info          13883      67.35            9   \n",
       "3   5h 25m      1 stop         No info           6219      67.35           12   \n",
       "4   4h 45m      1 stop         No info          13303      63.71            1   \n",
       "\n",
       "   Journey_Month  Dep_Hour  Dep_Min  \n",
       "0              3        22       20  \n",
       "1              5         5       50  \n",
       "2              6         9       25  \n",
       "3              5        18        5  \n",
       "4              3        16       50  "
      ]
     },
     "execution_count": 60,
     "metadata": {},
     "output_type": "execute_result"
    }
   ],
   "source": [
    "train_data.head()"
   ]
  },
  {
   "cell_type": "code",
   "execution_count": 61,
   "id": "41b5ac5d-41cc-4d72-9ae8-a1d10045dbe4",
   "metadata": {},
   "outputs": [],
   "source": [
    "train_data[\"Arrival_Hour\"] = pd.to_datetime(train_data[\"Arrival_Time\"]).dt.hour\n",
    "train_data[\"Arrival_Min\"] = pd.to_datetime(train_data[\"Arrival_Time\"]).dt.minute"
   ]
  },
  {
   "cell_type": "code",
   "execution_count": 62,
   "id": "daabf818-9e88-4713-9c6c-2ffa8fb9bbba",
   "metadata": {},
   "outputs": [],
   "source": [
    "train_data.drop([\"Arrival_Time\"], axis = 1, inplace = True)"
   ]
  },
  {
   "cell_type": "code",
   "execution_count": 63,
   "id": "ad6a5ac2-6e88-4b90-9a9d-669812d99a56",
   "metadata": {
    "tags": []
   },
   "outputs": [
    {
     "data": {
      "text/html": [
       "<div>\n",
       "<style scoped>\n",
       "    .dataframe tbody tr th:only-of-type {\n",
       "        vertical-align: middle;\n",
       "    }\n",
       "\n",
       "    .dataframe tbody tr th {\n",
       "        vertical-align: top;\n",
       "    }\n",
       "\n",
       "    .dataframe thead th {\n",
       "        text-align: right;\n",
       "    }\n",
       "</style>\n",
       "<table border=\"1\" class=\"dataframe\">\n",
       "  <thead>\n",
       "    <tr style=\"text-align: right;\">\n",
       "      <th></th>\n",
       "      <th>Airline</th>\n",
       "      <th>Source</th>\n",
       "      <th>Destination</th>\n",
       "      <th>Route</th>\n",
       "      <th>Duration</th>\n",
       "      <th>Total_Stops</th>\n",
       "      <th>Additional Info</th>\n",
       "      <th>Airline_Price</th>\n",
       "      <th>Oil_Price</th>\n",
       "      <th>Journey_Day</th>\n",
       "      <th>Journey_Month</th>\n",
       "      <th>Dep_Hour</th>\n",
       "      <th>Dep_Min</th>\n",
       "      <th>Arrival_Hour</th>\n",
       "      <th>Arrival_Min</th>\n",
       "    </tr>\n",
       "  </thead>\n",
       "  <tbody>\n",
       "    <tr>\n",
       "      <th>0</th>\n",
       "      <td>IndiGo</td>\n",
       "      <td>Banglore</td>\n",
       "      <td>New Delhi</td>\n",
       "      <td>BLR → DEL</td>\n",
       "      <td>2h 50m</td>\n",
       "      <td>non-stop</td>\n",
       "      <td>No info</td>\n",
       "      <td>3898</td>\n",
       "      <td>67.35</td>\n",
       "      <td>24</td>\n",
       "      <td>3</td>\n",
       "      <td>22</td>\n",
       "      <td>20</td>\n",
       "      <td>1</td>\n",
       "      <td>10</td>\n",
       "    </tr>\n",
       "    <tr>\n",
       "      <th>1</th>\n",
       "      <td>Air India</td>\n",
       "      <td>Kolkata</td>\n",
       "      <td>Banglore</td>\n",
       "      <td>CCU → IXR → BBI → BLR</td>\n",
       "      <td>7h 25m</td>\n",
       "      <td>2 stops</td>\n",
       "      <td>No info</td>\n",
       "      <td>7663</td>\n",
       "      <td>67.35</td>\n",
       "      <td>1</td>\n",
       "      <td>5</td>\n",
       "      <td>5</td>\n",
       "      <td>50</td>\n",
       "      <td>13</td>\n",
       "      <td>15</td>\n",
       "    </tr>\n",
       "    <tr>\n",
       "      <th>2</th>\n",
       "      <td>Jet Airways</td>\n",
       "      <td>Delhi</td>\n",
       "      <td>Cochin</td>\n",
       "      <td>DEL → LKO → BOM → COK</td>\n",
       "      <td>19h</td>\n",
       "      <td>2 stops</td>\n",
       "      <td>No info</td>\n",
       "      <td>13883</td>\n",
       "      <td>67.35</td>\n",
       "      <td>9</td>\n",
       "      <td>6</td>\n",
       "      <td>9</td>\n",
       "      <td>25</td>\n",
       "      <td>4</td>\n",
       "      <td>25</td>\n",
       "    </tr>\n",
       "    <tr>\n",
       "      <th>3</th>\n",
       "      <td>IndiGo</td>\n",
       "      <td>Kolkata</td>\n",
       "      <td>Banglore</td>\n",
       "      <td>CCU → NAG → BLR</td>\n",
       "      <td>5h 25m</td>\n",
       "      <td>1 stop</td>\n",
       "      <td>No info</td>\n",
       "      <td>6219</td>\n",
       "      <td>67.35</td>\n",
       "      <td>12</td>\n",
       "      <td>5</td>\n",
       "      <td>18</td>\n",
       "      <td>5</td>\n",
       "      <td>23</td>\n",
       "      <td>30</td>\n",
       "    </tr>\n",
       "    <tr>\n",
       "      <th>4</th>\n",
       "      <td>IndiGo</td>\n",
       "      <td>Banglore</td>\n",
       "      <td>New Delhi</td>\n",
       "      <td>BLR → NAG → DEL</td>\n",
       "      <td>4h 45m</td>\n",
       "      <td>1 stop</td>\n",
       "      <td>No info</td>\n",
       "      <td>13303</td>\n",
       "      <td>63.71</td>\n",
       "      <td>1</td>\n",
       "      <td>3</td>\n",
       "      <td>16</td>\n",
       "      <td>50</td>\n",
       "      <td>21</td>\n",
       "      <td>35</td>\n",
       "    </tr>\n",
       "  </tbody>\n",
       "</table>\n",
       "</div>"
      ],
      "text/plain": [
       "       Airline    Source Destination                  Route Duration  \\\n",
       "0       IndiGo  Banglore   New Delhi              BLR → DEL   2h 50m   \n",
       "1    Air India   Kolkata    Banglore  CCU → IXR → BBI → BLR   7h 25m   \n",
       "2  Jet Airways     Delhi      Cochin  DEL → LKO → BOM → COK      19h   \n",
       "3       IndiGo   Kolkata    Banglore        CCU → NAG → BLR   5h 25m   \n",
       "4       IndiGo  Banglore   New Delhi        BLR → NAG → DEL   4h 45m   \n",
       "\n",
       "  Total_Stops Additional Info  Airline_Price  Oil_Price  Journey_Day  \\\n",
       "0    non-stop         No info           3898      67.35           24   \n",
       "1     2 stops         No info           7663      67.35            1   \n",
       "2     2 stops         No info          13883      67.35            9   \n",
       "3      1 stop         No info           6219      67.35           12   \n",
       "4      1 stop         No info          13303      63.71            1   \n",
       "\n",
       "   Journey_Month  Dep_Hour  Dep_Min  Arrival_Hour  Arrival_Min  \n",
       "0              3        22       20             1           10  \n",
       "1              5         5       50            13           15  \n",
       "2              6         9       25             4           25  \n",
       "3              5        18        5            23           30  \n",
       "4              3        16       50            21           35  "
      ]
     },
     "execution_count": 63,
     "metadata": {},
     "output_type": "execute_result"
    }
   ],
   "source": [
    "train_data.head()"
   ]
  },
  {
   "cell_type": "code",
   "execution_count": 64,
   "id": "c69402dd-b47c-4feb-8e9a-169bf6b44625",
   "metadata": {
    "jupyter": {
     "source_hidden": true
    },
    "tags": []
   },
   "outputs": [],
   "source": [
    "d = list(train_data[\"Duration\"])\n",
    "for i in range(len(d)):\n",
    "    if len(d[i].split()) != 2:\n",
    "        if \"h\" in d[i]:\n",
    "            d[i] = d[i].strip() + \" 0m\"\n",
    "        else:\n",
    "            d[i] = \"0h \" + d[i]\n",
    "d_hours = []\n",
    "d_minutes = []\n",
    "for j in range(len(d)):\n",
    "    d_hours.append(int(d[i].split(sep = \"h\")[0]))\n",
    "    d_minutes.append(int(d[i].split(sep = \"m\")[0].split()[-1])) "
   ]
  },
  {
   "cell_type": "code",
   "execution_count": 65,
   "id": "bc9c7ae3-7419-42c4-998b-e6bb7eeed568",
   "metadata": {},
   "outputs": [],
   "source": [
    "train_data[\"Duration_Hours\"] = d_hours\n",
    "train_data[\"Duration_Mintues\"] = d_minutes"
   ]
  },
  {
   "cell_type": "code",
   "execution_count": 66,
   "id": "0a4a6dbe-68f7-4076-aab2-f7b304dd7fda",
   "metadata": {},
   "outputs": [],
   "source": [
    "train_data.drop([\"Duration\"], axis = 1, inplace = True)"
   ]
  },
  {
   "cell_type": "code",
   "execution_count": 67,
   "id": "2684ce58-15c0-457a-8a35-ab700ca3b1fa",
   "metadata": {
    "tags": []
   },
   "outputs": [
    {
     "data": {
      "text/html": [
       "<div>\n",
       "<style scoped>\n",
       "    .dataframe tbody tr th:only-of-type {\n",
       "        vertical-align: middle;\n",
       "    }\n",
       "\n",
       "    .dataframe tbody tr th {\n",
       "        vertical-align: top;\n",
       "    }\n",
       "\n",
       "    .dataframe thead th {\n",
       "        text-align: right;\n",
       "    }\n",
       "</style>\n",
       "<table border=\"1\" class=\"dataframe\">\n",
       "  <thead>\n",
       "    <tr style=\"text-align: right;\">\n",
       "      <th></th>\n",
       "      <th>Airline</th>\n",
       "      <th>Source</th>\n",
       "      <th>Destination</th>\n",
       "      <th>Route</th>\n",
       "      <th>Total_Stops</th>\n",
       "      <th>Additional Info</th>\n",
       "      <th>Airline_Price</th>\n",
       "      <th>Oil_Price</th>\n",
       "      <th>Journey_Day</th>\n",
       "      <th>Journey_Month</th>\n",
       "      <th>Dep_Hour</th>\n",
       "      <th>Dep_Min</th>\n",
       "      <th>Arrival_Hour</th>\n",
       "      <th>Arrival_Min</th>\n",
       "      <th>Duration_Hours</th>\n",
       "      <th>Duration_Mintues</th>\n",
       "    </tr>\n",
       "  </thead>\n",
       "  <tbody>\n",
       "    <tr>\n",
       "      <th>0</th>\n",
       "      <td>IndiGo</td>\n",
       "      <td>Banglore</td>\n",
       "      <td>New Delhi</td>\n",
       "      <td>BLR → DEL</td>\n",
       "      <td>non-stop</td>\n",
       "      <td>No info</td>\n",
       "      <td>3898</td>\n",
       "      <td>67.35</td>\n",
       "      <td>24</td>\n",
       "      <td>3</td>\n",
       "      <td>22</td>\n",
       "      <td>20</td>\n",
       "      <td>1</td>\n",
       "      <td>10</td>\n",
       "      <td>8</td>\n",
       "      <td>20</td>\n",
       "    </tr>\n",
       "    <tr>\n",
       "      <th>1</th>\n",
       "      <td>Air India</td>\n",
       "      <td>Kolkata</td>\n",
       "      <td>Banglore</td>\n",
       "      <td>CCU → IXR → BBI → BLR</td>\n",
       "      <td>2 stops</td>\n",
       "      <td>No info</td>\n",
       "      <td>7663</td>\n",
       "      <td>67.35</td>\n",
       "      <td>1</td>\n",
       "      <td>5</td>\n",
       "      <td>5</td>\n",
       "      <td>50</td>\n",
       "      <td>13</td>\n",
       "      <td>15</td>\n",
       "      <td>8</td>\n",
       "      <td>20</td>\n",
       "    </tr>\n",
       "    <tr>\n",
       "      <th>2</th>\n",
       "      <td>Jet Airways</td>\n",
       "      <td>Delhi</td>\n",
       "      <td>Cochin</td>\n",
       "      <td>DEL → LKO → BOM → COK</td>\n",
       "      <td>2 stops</td>\n",
       "      <td>No info</td>\n",
       "      <td>13883</td>\n",
       "      <td>67.35</td>\n",
       "      <td>9</td>\n",
       "      <td>6</td>\n",
       "      <td>9</td>\n",
       "      <td>25</td>\n",
       "      <td>4</td>\n",
       "      <td>25</td>\n",
       "      <td>8</td>\n",
       "      <td>20</td>\n",
       "    </tr>\n",
       "    <tr>\n",
       "      <th>3</th>\n",
       "      <td>IndiGo</td>\n",
       "      <td>Kolkata</td>\n",
       "      <td>Banglore</td>\n",
       "      <td>CCU → NAG → BLR</td>\n",
       "      <td>1 stop</td>\n",
       "      <td>No info</td>\n",
       "      <td>6219</td>\n",
       "      <td>67.35</td>\n",
       "      <td>12</td>\n",
       "      <td>5</td>\n",
       "      <td>18</td>\n",
       "      <td>5</td>\n",
       "      <td>23</td>\n",
       "      <td>30</td>\n",
       "      <td>8</td>\n",
       "      <td>20</td>\n",
       "    </tr>\n",
       "    <tr>\n",
       "      <th>4</th>\n",
       "      <td>IndiGo</td>\n",
       "      <td>Banglore</td>\n",
       "      <td>New Delhi</td>\n",
       "      <td>BLR → NAG → DEL</td>\n",
       "      <td>1 stop</td>\n",
       "      <td>No info</td>\n",
       "      <td>13303</td>\n",
       "      <td>63.71</td>\n",
       "      <td>1</td>\n",
       "      <td>3</td>\n",
       "      <td>16</td>\n",
       "      <td>50</td>\n",
       "      <td>21</td>\n",
       "      <td>35</td>\n",
       "      <td>8</td>\n",
       "      <td>20</td>\n",
       "    </tr>\n",
       "  </tbody>\n",
       "</table>\n",
       "</div>"
      ],
      "text/plain": [
       "       Airline    Source Destination                  Route Total_Stops  \\\n",
       "0       IndiGo  Banglore   New Delhi              BLR → DEL    non-stop   \n",
       "1    Air India   Kolkata    Banglore  CCU → IXR → BBI → BLR     2 stops   \n",
       "2  Jet Airways     Delhi      Cochin  DEL → LKO → BOM → COK     2 stops   \n",
       "3       IndiGo   Kolkata    Banglore        CCU → NAG → BLR      1 stop   \n",
       "4       IndiGo  Banglore   New Delhi        BLR → NAG → DEL      1 stop   \n",
       "\n",
       "  Additional Info  Airline_Price  Oil_Price  Journey_Day  Journey_Month  \\\n",
       "0         No info           3898      67.35           24              3   \n",
       "1         No info           7663      67.35            1              5   \n",
       "2         No info          13883      67.35            9              6   \n",
       "3         No info           6219      67.35           12              5   \n",
       "4         No info          13303      63.71            1              3   \n",
       "\n",
       "   Dep_Hour  Dep_Min  Arrival_Hour  Arrival_Min  Duration_Hours  \\\n",
       "0        22       20             1           10               8   \n",
       "1         5       50            13           15               8   \n",
       "2         9       25             4           25               8   \n",
       "3        18        5            23           30               8   \n",
       "4        16       50            21           35               8   \n",
       "\n",
       "   Duration_Mintues  \n",
       "0                20  \n",
       "1                20  \n",
       "2                20  \n",
       "3                20  \n",
       "4                20  "
      ]
     },
     "execution_count": 67,
     "metadata": {},
     "output_type": "execute_result"
    }
   ],
   "source": [
    "train_data.head()"
   ]
  },
  {
   "cell_type": "code",
   "execution_count": 68,
   "id": "847d6129-a343-48b8-8d0c-1d97e9800f0f",
   "metadata": {
    "tags": []
   },
   "outputs": [
    {
     "data": {
      "image/png": "[encoded data removed]",
      "text/plain": [
       "<Figure size 1296x432 with 1 Axes>"
      ]
     },
     "metadata": {
      "needs_background": "light"
     },
     "output_type": "display_data"
    }
   ],
   "source": [
    "sns.catplot(y = \"Airline_Price\", x = \"Airline\", data = train_data.sort_values(\"Airline_Price\", ascending = False), kind=\"boxen\", height = 6, aspect = 3)\n",
    "plt.show()\n",
    "#We can see from this graph that Jet Airyways Business is the most expensive airline while spicejet is the cheapest. This could be a great indication of what the the airline price will be depending on the airline taken"
   ]
  },
  {
   "cell_type": "code",
   "execution_count": 69,
   "id": "de56ac12-facf-46b2-808d-171fd7528475",
   "metadata": {
    "tags": []
   },
   "outputs": [],
   "source": [
    "#Performed OneHotEncoding on this categorical variable in order for the model to better understand it\n",
    "Airline = train_data[[\"Airline\"]]\n",
    "Airline = pd.get_dummies(Airline, drop_first= True)"
   ]
  },
  {
   "cell_type": "code",
   "execution_count": 70,
   "id": "db6f7064-5c68-4c21-aa57-2a36db2a4a25",
   "metadata": {},
   "outputs": [],
   "source": [
    "#Dropping all the variables I no longer need for prediction\n",
    "train_data.drop([\"Route\", \"Airline\",\"Additional Info\", \"Route\", \"Source\", \"Destination\"], axis = 1, inplace = True)"
   ]
  },
  {
   "cell_type": "code",
   "execution_count": 71,
   "id": "777db92a-3aa3-4a96-a6e8-0db426e4bc44",
   "metadata": {},
   "outputs": [],
   "source": [
    "train_data.replace({\"non-stop\": 0, \"1 stop\": 1, \"2 stops\": 2, \"3 stops\": 3, \"4 stops\": 4}, inplace = True)"
   ]
  },
  {
   "cell_type": "code",
   "execution_count": 72,
   "id": "29b85c6d-a62c-4fa5-bf7d-cb7d367100bd",
   "metadata": {},
   "outputs": [
    {
     "data": {
      "text/html": [
       "<div>\n",
       "<style scoped>\n",
       "    .dataframe tbody tr th:only-of-type {\n",
       "        vertical-align: middle;\n",
       "    }\n",
       "\n",
       "    .dataframe tbody tr th {\n",
       "        vertical-align: top;\n",
       "    }\n",
       "\n",
       "    .dataframe thead th {\n",
       "        text-align: right;\n",
       "    }\n",
       "</style>\n",
       "<table border=\"1\" class=\"dataframe\">\n",
       "  <thead>\n",
       "    <tr style=\"text-align: right;\">\n",
       "      <th></th>\n",
       "      <th>Total_Stops</th>\n",
       "      <th>Airline_Price</th>\n",
       "      <th>Oil_Price</th>\n",
       "      <th>Journey_Day</th>\n",
       "      <th>Journey_Month</th>\n",
       "      <th>Dep_Hour</th>\n",
       "      <th>Dep_Min</th>\n",
       "      <th>Arrival_Hour</th>\n",
       "      <th>Arrival_Min</th>\n",
       "      <th>Duration_Hours</th>\n",
       "      <th>Duration_Mintues</th>\n",
       "    </tr>\n",
       "  </thead>\n",
       "  <tbody>\n",
       "    <tr>\n",
       "      <th>0</th>\n",
       "      <td>0</td>\n",
       "      <td>3898</td>\n",
       "      <td>67.35</td>\n",
       "      <td>24</td>\n",
       "      <td>3</td>\n",
       "      <td>22</td>\n",
       "      <td>20</td>\n",
       "      <td>1</td>\n",
       "      <td>10</td>\n",
       "      <td>8</td>\n",
       "      <td>20</td>\n",
       "    </tr>\n",
       "    <tr>\n",
       "      <th>1</th>\n",
       "      <td>2</td>\n",
       "      <td>7663</td>\n",
       "      <td>67.35</td>\n",
       "      <td>1</td>\n",
       "      <td>5</td>\n",
       "      <td>5</td>\n",
       "      <td>50</td>\n",
       "      <td>13</td>\n",
       "      <td>15</td>\n",
       "      <td>8</td>\n",
       "      <td>20</td>\n",
       "    </tr>\n",
       "    <tr>\n",
       "      <th>2</th>\n",
       "      <td>2</td>\n",
       "      <td>13883</td>\n",
       "      <td>67.35</td>\n",
       "      <td>9</td>\n",
       "      <td>6</td>\n",
       "      <td>9</td>\n",
       "      <td>25</td>\n",
       "      <td>4</td>\n",
       "      <td>25</td>\n",
       "      <td>8</td>\n",
       "      <td>20</td>\n",
       "    </tr>\n",
       "    <tr>\n",
       "      <th>3</th>\n",
       "      <td>1</td>\n",
       "      <td>6219</td>\n",
       "      <td>67.35</td>\n",
       "      <td>12</td>\n",
       "      <td>5</td>\n",
       "      <td>18</td>\n",
       "      <td>5</td>\n",
       "      <td>23</td>\n",
       "      <td>30</td>\n",
       "      <td>8</td>\n",
       "      <td>20</td>\n",
       "    </tr>\n",
       "    <tr>\n",
       "      <th>4</th>\n",
       "      <td>1</td>\n",
       "      <td>13303</td>\n",
       "      <td>63.71</td>\n",
       "      <td>1</td>\n",
       "      <td>3</td>\n",
       "      <td>16</td>\n",
       "      <td>50</td>\n",
       "      <td>21</td>\n",
       "      <td>35</td>\n",
       "      <td>8</td>\n",
       "      <td>20</td>\n",
       "    </tr>\n",
       "  </tbody>\n",
       "</table>\n",
       "</div>"
      ],
      "text/plain": [
       "   Total_Stops  Airline_Price  Oil_Price  Journey_Day  Journey_Month  \\\n",
       "0            0           3898      67.35           24              3   \n",
       "1            2           7663      67.35            1              5   \n",
       "2            2          13883      67.35            9              6   \n",
       "3            1           6219      67.35           12              5   \n",
       "4            1          13303      63.71            1              3   \n",
       "\n",
       "   Dep_Hour  Dep_Min  Arrival_Hour  Arrival_Min  Duration_Hours  \\\n",
       "0        22       20             1           10               8   \n",
       "1         5       50            13           15               8   \n",
       "2         9       25             4           25               8   \n",
       "3        18        5            23           30               8   \n",
       "4        16       50            21           35               8   \n",
       "\n",
       "   Duration_Mintues  \n",
       "0                20  \n",
       "1                20  \n",
       "2                20  \n",
       "3                20  \n",
       "4                20  "
      ]
     },
     "execution_count": 72,
     "metadata": {},
     "output_type": "execute_result"
    }
   ],
   "source": [
    "train_data.head()"
   ]
  },
  {
   "cell_type": "code",
   "execution_count": 73,
   "id": "7b6cda86-2b2e-4e63-af4c-43a710395c14",
   "metadata": {},
   "outputs": [],
   "source": [
    "train_data = pd.concat([train_data, Airline], axis = 1)"
   ]
  },
  {
   "cell_type": "code",
   "execution_count": 74,
   "id": "295952ea-7585-45c7-b2e5-17b5427242e3",
   "metadata": {
    "tags": []
   },
   "outputs": [
    {
     "data": {
      "text/html": [
       "<div>\n",
       "<style scoped>\n",
       "    .dataframe tbody tr th:only-of-type {\n",
       "        vertical-align: middle;\n",
       "    }\n",
       "\n",
       "    .dataframe tbody tr th {\n",
       "        vertical-align: top;\n",
       "    }\n",
       "\n",
       "    .dataframe thead th {\n",
       "        text-align: right;\n",
       "    }\n",
       "</style>\n",
       "<table border=\"1\" class=\"dataframe\">\n",
       "  <thead>\n",
       "    <tr style=\"text-align: right;\">\n",
       "      <th></th>\n",
       "      <th>Total_Stops</th>\n",
       "      <th>Airline_Price</th>\n",
       "      <th>Oil_Price</th>\n",
       "      <th>Journey_Day</th>\n",
       "      <th>Journey_Month</th>\n",
       "      <th>Dep_Hour</th>\n",
       "      <th>Dep_Min</th>\n",
       "      <th>Arrival_Hour</th>\n",
       "      <th>Arrival_Min</th>\n",
       "      <th>Duration_Hours</th>\n",
       "      <th>...</th>\n",
       "      <th>Airline_GoAir</th>\n",
       "      <th>Airline_IndiGo</th>\n",
       "      <th>Airline_Jet Airways</th>\n",
       "      <th>Airline_Jet Airways Business</th>\n",
       "      <th>Airline_Multiple carriers</th>\n",
       "      <th>Airline_Multiple carriers Premium economy</th>\n",
       "      <th>Airline_SpiceJet</th>\n",
       "      <th>Airline_Trujet</th>\n",
       "      <th>Airline_Vistara</th>\n",
       "      <th>Airline_Vistara Premium economy</th>\n",
       "    </tr>\n",
       "  </thead>\n",
       "  <tbody>\n",
       "    <tr>\n",
       "      <th>0</th>\n",
       "      <td>0</td>\n",
       "      <td>3898</td>\n",
       "      <td>67.35</td>\n",
       "      <td>24</td>\n",
       "      <td>3</td>\n",
       "      <td>22</td>\n",
       "      <td>20</td>\n",
       "      <td>1</td>\n",
       "      <td>10</td>\n",
       "      <td>8</td>\n",
       "      <td>...</td>\n",
       "      <td>0</td>\n",
       "      <td>1</td>\n",
       "      <td>0</td>\n",
       "      <td>0</td>\n",
       "      <td>0</td>\n",
       "      <td>0</td>\n",
       "      <td>0</td>\n",
       "      <td>0</td>\n",
       "      <td>0</td>\n",
       "      <td>0</td>\n",
       "    </tr>\n",
       "    <tr>\n",
       "      <th>1</th>\n",
       "      <td>2</td>\n",
       "      <td>7663</td>\n",
       "      <td>67.35</td>\n",
       "      <td>1</td>\n",
       "      <td>5</td>\n",
       "      <td>5</td>\n",
       "      <td>50</td>\n",
       "      <td>13</td>\n",
       "      <td>15</td>\n",
       "      <td>8</td>\n",
       "      <td>...</td>\n",
       "      <td>0</td>\n",
       "      <td>0</td>\n",
       "      <td>0</td>\n",
       "      <td>0</td>\n",
       "      <td>0</td>\n",
       "      <td>0</td>\n",
       "      <td>0</td>\n",
       "      <td>0</td>\n",
       "      <td>0</td>\n",
       "      <td>0</td>\n",
       "    </tr>\n",
       "    <tr>\n",
       "      <th>2</th>\n",
       "      <td>2</td>\n",
       "      <td>13883</td>\n",
       "      <td>67.35</td>\n",
       "      <td>9</td>\n",
       "      <td>6</td>\n",
       "      <td>9</td>\n",
       "      <td>25</td>\n",
       "      <td>4</td>\n",
       "      <td>25</td>\n",
       "      <td>8</td>\n",
       "      <td>...</td>\n",
       "      <td>0</td>\n",
       "      <td>0</td>\n",
       "      <td>1</td>\n",
       "      <td>0</td>\n",
       "      <td>0</td>\n",
       "      <td>0</td>\n",
       "      <td>0</td>\n",
       "      <td>0</td>\n",
       "      <td>0</td>\n",
       "      <td>0</td>\n",
       "    </tr>\n",
       "    <tr>\n",
       "      <th>3</th>\n",
       "      <td>1</td>\n",
       "      <td>6219</td>\n",
       "      <td>67.35</td>\n",
       "      <td>12</td>\n",
       "      <td>5</td>\n",
       "      <td>18</td>\n",
       "      <td>5</td>\n",
       "      <td>23</td>\n",
       "      <td>30</td>\n",
       "      <td>8</td>\n",
       "      <td>...</td>\n",
       "      <td>0</td>\n",
       "      <td>1</td>\n",
       "      <td>0</td>\n",
       "      <td>0</td>\n",
       "      <td>0</td>\n",
       "      <td>0</td>\n",
       "      <td>0</td>\n",
       "      <td>0</td>\n",
       "      <td>0</td>\n",
       "      <td>0</td>\n",
       "    </tr>\n",
       "    <tr>\n",
       "      <th>4</th>\n",
       "      <td>1</td>\n",
       "      <td>13303</td>\n",
       "      <td>63.71</td>\n",
       "      <td>1</td>\n",
       "      <td>3</td>\n",
       "      <td>16</td>\n",
       "      <td>50</td>\n",
       "      <td>21</td>\n",
       "      <td>35</td>\n",
       "      <td>8</td>\n",
       "      <td>...</td>\n",
       "      <td>0</td>\n",
       "      <td>1</td>\n",
       "      <td>0</td>\n",
       "      <td>0</td>\n",
       "      <td>0</td>\n",
       "      <td>0</td>\n",
       "      <td>0</td>\n",
       "      <td>0</td>\n",
       "      <td>0</td>\n",
       "      <td>0</td>\n",
       "    </tr>\n",
       "  </tbody>\n",
       "</table>\n",
       "<p>5 rows × 22 columns</p>\n",
       "</div>"
      ],
      "text/plain": [
       "   Total_Stops  Airline_Price  Oil_Price  Journey_Day  Journey_Month  \\\n",
       "0            0           3898      67.35           24              3   \n",
       "1            2           7663      67.35            1              5   \n",
       "2            2          13883      67.35            9              6   \n",
       "3            1           6219      67.35           12              5   \n",
       "4            1          13303      63.71            1              3   \n",
       "\n",
       "   Dep_Hour  Dep_Min  Arrival_Hour  Arrival_Min  Duration_Hours  ...  \\\n",
       "0        22       20             1           10               8  ...   \n",
       "1         5       50            13           15               8  ...   \n",
       "2         9       25             4           25               8  ...   \n",
       "3        18        5            23           30               8  ...   \n",
       "4        16       50            21           35               8  ...   \n",
       "\n",
       "   Airline_GoAir  Airline_IndiGo  Airline_Jet Airways  \\\n",
       "0              0               1                    0   \n",
       "1              0               0                    0   \n",
       "2              0               0                    1   \n",
       "3              0               1                    0   \n",
       "4              0               1                    0   \n",
       "\n",
       "   Airline_Jet Airways Business  Airline_Multiple carriers  \\\n",
       "0                             0                          0   \n",
       "1                             0                          0   \n",
       "2                             0                          0   \n",
       "3                             0                          0   \n",
       "4                             0                          0   \n",
       "\n",
       "   Airline_Multiple carriers Premium economy  Airline_SpiceJet  \\\n",
       "0                                          0                 0   \n",
       "1                                          0                 0   \n",
       "2                                          0                 0   \n",
       "3                                          0                 0   \n",
       "4                                          0                 0   \n",
       "\n",
       "   Airline_Trujet  Airline_Vistara  Airline_Vistara Premium economy  \n",
       "0               0                0                                0  \n",
       "1               0                0                                0  \n",
       "2               0                0                                0  \n",
       "3               0                0                                0  \n",
       "4               0                0                                0  \n",
       "\n",
       "[5 rows x 22 columns]"
      ]
     },
     "execution_count": 74,
     "metadata": {},
     "output_type": "execute_result"
    }
   ],
   "source": [
    "train_data.head()"
   ]
  },
  {
   "cell_type": "code",
   "execution_count": 75,
   "id": "7f09a6b2-be20-4dac-85ed-74b66faef054",
   "metadata": {
    "tags": []
   },
   "outputs": [
    {
     "data": {
      "text/html": [
       "<div>\n",
       "<style scoped>\n",
       "    .dataframe tbody tr th:only-of-type {\n",
       "        vertical-align: middle;\n",
       "    }\n",
       "\n",
       "    .dataframe tbody tr th {\n",
       "        vertical-align: top;\n",
       "    }\n",
       "\n",
       "    .dataframe thead th {\n",
       "        text-align: right;\n",
       "    }\n",
       "</style>\n",
       "<table border=\"1\" class=\"dataframe\">\n",
       "  <thead>\n",
       "    <tr style=\"text-align: right;\">\n",
       "      <th></th>\n",
       "      <th>Total_Stops</th>\n",
       "      <th>Airline_Price</th>\n",
       "      <th>Oil_Price</th>\n",
       "      <th>Journey_Day</th>\n",
       "      <th>Journey_Month</th>\n",
       "      <th>Dep_Hour</th>\n",
       "      <th>Dep_Min</th>\n",
       "      <th>Arrival_Hour</th>\n",
       "      <th>Arrival_Min</th>\n",
       "      <th>Duration_Hours</th>\n",
       "      <th>...</th>\n",
       "      <th>Airline_GoAir</th>\n",
       "      <th>Airline_IndiGo</th>\n",
       "      <th>Airline_Jet Airways</th>\n",
       "      <th>Airline_Jet Airways Business</th>\n",
       "      <th>Airline_Multiple carriers</th>\n",
       "      <th>Airline_Multiple carriers Premium economy</th>\n",
       "      <th>Airline_SpiceJet</th>\n",
       "      <th>Airline_Trujet</th>\n",
       "      <th>Airline_Vistara</th>\n",
       "      <th>Airline_Vistara Premium economy</th>\n",
       "    </tr>\n",
       "  </thead>\n",
       "  <tbody>\n",
       "    <tr>\n",
       "      <th>Total_Stops</th>\n",
       "      <td>1.000000</td>\n",
       "      <td>0.603897</td>\n",
       "      <td>-0.034005</td>\n",
       "      <td>-0.009451</td>\n",
       "      <td>0.054383</td>\n",
       "      <td>-0.061476</td>\n",
       "      <td>-0.002618</td>\n",
       "      <td>0.038140</td>\n",
       "      <td>-0.106940</td>\n",
       "      <td>NaN</td>\n",
       "      <td>...</td>\n",
       "      <td>-0.060110</td>\n",
       "      <td>-0.302991</td>\n",
       "      <td>0.215063</td>\n",
       "      <td>0.017876</td>\n",
       "      <td>0.118399</td>\n",
       "      <td>0.009089</td>\n",
       "      <td>-0.274351</td>\n",
       "      <td>0.002519</td>\n",
       "      <td>-0.120447</td>\n",
       "      <td>-0.020459</td>\n",
       "    </tr>\n",
       "    <tr>\n",
       "      <th>Airline_Price</th>\n",
       "      <td>0.603897</td>\n",
       "      <td>1.000000</td>\n",
       "      <td>-0.099865</td>\n",
       "      <td>-0.153774</td>\n",
       "      <td>-0.103643</td>\n",
       "      <td>0.006799</td>\n",
       "      <td>-0.024458</td>\n",
       "      <td>0.024244</td>\n",
       "      <td>-0.086155</td>\n",
       "      <td>NaN</td>\n",
       "      <td>...</td>\n",
       "      <td>-0.095151</td>\n",
       "      <td>-0.361070</td>\n",
       "      <td>0.416124</td>\n",
       "      <td>0.253303</td>\n",
       "      <td>0.139793</td>\n",
       "      <td>0.017650</td>\n",
       "      <td>-0.296565</td>\n",
       "      <td>-0.010381</td>\n",
       "      <td>-0.060654</td>\n",
       "      <td>-0.000454</td>\n",
       "    </tr>\n",
       "    <tr>\n",
       "      <th>Oil_Price</th>\n",
       "      <td>-0.034005</td>\n",
       "      <td>-0.099865</td>\n",
       "      <td>1.000000</td>\n",
       "      <td>0.165733</td>\n",
       "      <td>-0.113118</td>\n",
       "      <td>0.013920</td>\n",
       "      <td>-0.037929</td>\n",
       "      <td>0.010555</td>\n",
       "      <td>0.011817</td>\n",
       "      <td>NaN</td>\n",
       "      <td>...</td>\n",
       "      <td>0.011900</td>\n",
       "      <td>0.021377</td>\n",
       "      <td>-0.057486</td>\n",
       "      <td>-0.025681</td>\n",
       "      <td>0.018827</td>\n",
       "      <td>0.012288</td>\n",
       "      <td>0.026067</td>\n",
       "      <td>-0.000501</td>\n",
       "      <td>0.010927</td>\n",
       "      <td>-0.000868</td>\n",
       "    </tr>\n",
       "    <tr>\n",
       "      <th>Journey_Day</th>\n",
       "      <td>-0.009451</td>\n",
       "      <td>-0.153774</td>\n",
       "      <td>0.165733</td>\n",
       "      <td>1.000000</td>\n",
       "      <td>-0.038359</td>\n",
       "      <td>0.002170</td>\n",
       "      <td>-0.008170</td>\n",
       "      <td>-0.003245</td>\n",
       "      <td>-0.017510</td>\n",
       "      <td>NaN</td>\n",
       "      <td>...</td>\n",
       "      <td>-0.003122</td>\n",
       "      <td>0.007281</td>\n",
       "      <td>-0.017304</td>\n",
       "      <td>-0.031713</td>\n",
       "      <td>0.042163</td>\n",
       "      <td>0.030839</td>\n",
       "      <td>0.022154</td>\n",
       "      <td>-0.008569</td>\n",
       "      <td>-0.013169</td>\n",
       "      <td>-0.020115</td>\n",
       "    </tr>\n",
       "    <tr>\n",
       "      <th>Journey_Month</th>\n",
       "      <td>0.054383</td>\n",
       "      <td>-0.103643</td>\n",
       "      <td>-0.113118</td>\n",
       "      <td>-0.038359</td>\n",
       "      <td>1.000000</td>\n",
       "      <td>0.039127</td>\n",
       "      <td>-0.059267</td>\n",
       "      <td>-0.003927</td>\n",
       "      <td>-0.100626</td>\n",
       "      <td>NaN</td>\n",
       "      <td>...</td>\n",
       "      <td>-0.004494</td>\n",
       "      <td>-0.048504</td>\n",
       "      <td>0.059735</td>\n",
       "      <td>-0.034787</td>\n",
       "      <td>0.053685</td>\n",
       "      <td>-0.051222</td>\n",
       "      <td>-0.011977</td>\n",
       "      <td>-0.014199</td>\n",
       "      <td>-0.017252</td>\n",
       "      <td>-0.019797</td>\n",
       "    </tr>\n",
       "    <tr>\n",
       "      <th>Dep_Hour</th>\n",
       "      <td>-0.061476</td>\n",
       "      <td>0.006799</td>\n",
       "      <td>0.013920</td>\n",
       "      <td>0.002170</td>\n",
       "      <td>0.039127</td>\n",
       "      <td>1.000000</td>\n",
       "      <td>-0.024745</td>\n",
       "      <td>0.005180</td>\n",
       "      <td>0.067911</td>\n",
       "      <td>NaN</td>\n",
       "      <td>...</td>\n",
       "      <td>-0.016373</td>\n",
       "      <td>-0.023395</td>\n",
       "      <td>0.113942</td>\n",
       "      <td>-0.007524</td>\n",
       "      <td>-0.149992</td>\n",
       "      <td>-0.028672</td>\n",
       "      <td>-0.010451</td>\n",
       "      <td>0.000857</td>\n",
       "      <td>0.023906</td>\n",
       "      <td>-0.003375</td>\n",
       "    </tr>\n",
       "    <tr>\n",
       "      <th>Dep_Min</th>\n",
       "      <td>-0.002618</td>\n",
       "      <td>-0.024458</td>\n",
       "      <td>-0.037929</td>\n",
       "      <td>-0.008170</td>\n",
       "      <td>-0.059267</td>\n",
       "      <td>-0.024745</td>\n",
       "      <td>1.000000</td>\n",
       "      <td>0.043122</td>\n",
       "      <td>-0.017597</td>\n",
       "      <td>NaN</td>\n",
       "      <td>...</td>\n",
       "      <td>0.076751</td>\n",
       "      <td>-0.014714</td>\n",
       "      <td>0.024455</td>\n",
       "      <td>0.009168</td>\n",
       "      <td>-0.109370</td>\n",
       "      <td>-0.004624</td>\n",
       "      <td>0.092634</td>\n",
       "      <td>-0.010007</td>\n",
       "      <td>-0.077903</td>\n",
       "      <td>-0.011380</td>\n",
       "    </tr>\n",
       "    <tr>\n",
       "      <th>Arrival_Hour</th>\n",
       "      <td>0.038140</td>\n",
       "      <td>0.024244</td>\n",
       "      <td>0.010555</td>\n",
       "      <td>-0.003245</td>\n",
       "      <td>-0.003927</td>\n",
       "      <td>0.005180</td>\n",
       "      <td>0.043122</td>\n",
       "      <td>1.000000</td>\n",
       "      <td>-0.154363</td>\n",
       "      <td>NaN</td>\n",
       "      <td>...</td>\n",
       "      <td>0.018526</td>\n",
       "      <td>-0.071491</td>\n",
       "      <td>-0.027377</td>\n",
       "      <td>-0.014456</td>\n",
       "      <td>0.067930</td>\n",
       "      <td>0.013491</td>\n",
       "      <td>-0.090058</td>\n",
       "      <td>0.003739</td>\n",
       "      <td>0.068834</td>\n",
       "      <td>0.000776</td>\n",
       "    </tr>\n",
       "    <tr>\n",
       "      <th>Arrival_Min</th>\n",
       "      <td>-0.106940</td>\n",
       "      <td>-0.086155</td>\n",
       "      <td>0.011817</td>\n",
       "      <td>-0.017510</td>\n",
       "      <td>-0.100626</td>\n",
       "      <td>0.067911</td>\n",
       "      <td>-0.017597</td>\n",
       "      <td>-0.154363</td>\n",
       "      <td>1.000000</td>\n",
       "      <td>NaN</td>\n",
       "      <td>...</td>\n",
       "      <td>0.096839</td>\n",
       "      <td>0.035124</td>\n",
       "      <td>-0.057698</td>\n",
       "      <td>0.005232</td>\n",
       "      <td>-0.167455</td>\n",
       "      <td>-0.001786</td>\n",
       "      <td>0.012543</td>\n",
       "      <td>-0.002750</td>\n",
       "      <td>0.069422</td>\n",
       "      <td>0.000314</td>\n",
       "    </tr>\n",
       "    <tr>\n",
       "      <th>Duration_Hours</th>\n",
       "      <td>NaN</td>\n",
       "      <td>NaN</td>\n",
       "      <td>NaN</td>\n",
       "      <td>NaN</td>\n",
       "      <td>NaN</td>\n",
       "      <td>NaN</td>\n",
       "      <td>NaN</td>\n",
       "      <td>NaN</td>\n",
       "      <td>NaN</td>\n",
       "      <td>NaN</td>\n",
       "      <td>...</td>\n",
       "      <td>NaN</td>\n",
       "      <td>NaN</td>\n",
       "      <td>NaN</td>\n",
       "      <td>NaN</td>\n",
       "      <td>NaN</td>\n",
       "      <td>NaN</td>\n",
       "      <td>NaN</td>\n",
       "      <td>NaN</td>\n",
       "      <td>NaN</td>\n",
       "      <td>NaN</td>\n",
       "    </tr>\n",
       "    <tr>\n",
       "      <th>Duration_Mintues</th>\n",
       "      <td>NaN</td>\n",
       "      <td>NaN</td>\n",
       "      <td>NaN</td>\n",
       "      <td>NaN</td>\n",
       "      <td>NaN</td>\n",
       "      <td>NaN</td>\n",
       "      <td>NaN</td>\n",
       "      <td>NaN</td>\n",
       "      <td>NaN</td>\n",
       "      <td>NaN</td>\n",
       "      <td>...</td>\n",
       "      <td>NaN</td>\n",
       "      <td>NaN</td>\n",
       "      <td>NaN</td>\n",
       "      <td>NaN</td>\n",
       "      <td>NaN</td>\n",
       "      <td>NaN</td>\n",
       "      <td>NaN</td>\n",
       "      <td>NaN</td>\n",
       "      <td>NaN</td>\n",
       "      <td>NaN</td>\n",
       "    </tr>\n",
       "    <tr>\n",
       "      <th>Airline_Air India</th>\n",
       "      <td>0.271094</td>\n",
       "      <td>0.050432</td>\n",
       "      <td>-0.002968</td>\n",
       "      <td>-0.032490</td>\n",
       "      <td>-0.045981</td>\n",
       "      <td>-0.012879</td>\n",
       "      <td>-0.045688</td>\n",
       "      <td>0.088872</td>\n",
       "      <td>0.061231</td>\n",
       "      <td>NaN</td>\n",
       "      <td>...</td>\n",
       "      <td>-0.060221</td>\n",
       "      <td>-0.215977</td>\n",
       "      <td>-0.332324</td>\n",
       "      <td>-0.010497</td>\n",
       "      <td>-0.157223</td>\n",
       "      <td>-0.015456</td>\n",
       "      <td>-0.127510</td>\n",
       "      <td>-0.004284</td>\n",
       "      <td>-0.095939</td>\n",
       "      <td>-0.007421</td>\n",
       "    </tr>\n",
       "    <tr>\n",
       "      <th>Airline_GoAir</th>\n",
       "      <td>-0.060110</td>\n",
       "      <td>-0.095151</td>\n",
       "      <td>0.011900</td>\n",
       "      <td>-0.003122</td>\n",
       "      <td>-0.004494</td>\n",
       "      <td>-0.016373</td>\n",
       "      <td>0.076751</td>\n",
       "      <td>0.018526</td>\n",
       "      <td>0.096839</td>\n",
       "      <td>NaN</td>\n",
       "      <td>...</td>\n",
       "      <td>1.000000</td>\n",
       "      <td>-0.066339</td>\n",
       "      <td>-0.102076</td>\n",
       "      <td>-0.003224</td>\n",
       "      <td>-0.048292</td>\n",
       "      <td>-0.004747</td>\n",
       "      <td>-0.039166</td>\n",
       "      <td>-0.001316</td>\n",
       "      <td>-0.029469</td>\n",
       "      <td>-0.002280</td>\n",
       "    </tr>\n",
       "    <tr>\n",
       "      <th>Airline_IndiGo</th>\n",
       "      <td>-0.302991</td>\n",
       "      <td>-0.361070</td>\n",
       "      <td>0.021377</td>\n",
       "      <td>0.007281</td>\n",
       "      <td>-0.048504</td>\n",
       "      <td>-0.023395</td>\n",
       "      <td>-0.014714</td>\n",
       "      <td>-0.071491</td>\n",
       "      <td>0.035124</td>\n",
       "      <td>NaN</td>\n",
       "      <td>...</td>\n",
       "      <td>-0.066339</td>\n",
       "      <td>1.000000</td>\n",
       "      <td>-0.366085</td>\n",
       "      <td>-0.011563</td>\n",
       "      <td>-0.173196</td>\n",
       "      <td>-0.017026</td>\n",
       "      <td>-0.140464</td>\n",
       "      <td>-0.004720</td>\n",
       "      <td>-0.105686</td>\n",
       "      <td>-0.008175</td>\n",
       "    </tr>\n",
       "    <tr>\n",
       "      <th>Airline_Jet Airways</th>\n",
       "      <td>0.215063</td>\n",
       "      <td>0.416124</td>\n",
       "      <td>-0.057486</td>\n",
       "      <td>-0.017304</td>\n",
       "      <td>0.059735</td>\n",
       "      <td>0.113942</td>\n",
       "      <td>0.024455</td>\n",
       "      <td>-0.027377</td>\n",
       "      <td>-0.057698</td>\n",
       "      <td>NaN</td>\n",
       "      <td>...</td>\n",
       "      <td>-0.102076</td>\n",
       "      <td>-0.366085</td>\n",
       "      <td>1.000000</td>\n",
       "      <td>-0.017793</td>\n",
       "      <td>-0.266497</td>\n",
       "      <td>-0.026199</td>\n",
       "      <td>-0.216132</td>\n",
       "      <td>-0.007262</td>\n",
       "      <td>-0.162619</td>\n",
       "      <td>-0.012580</td>\n",
       "    </tr>\n",
       "    <tr>\n",
       "      <th>Airline_Jet Airways Business</th>\n",
       "      <td>0.017876</td>\n",
       "      <td>0.253303</td>\n",
       "      <td>-0.025681</td>\n",
       "      <td>-0.031713</td>\n",
       "      <td>-0.034787</td>\n",
       "      <td>-0.007524</td>\n",
       "      <td>0.009168</td>\n",
       "      <td>-0.014456</td>\n",
       "      <td>0.005232</td>\n",
       "      <td>NaN</td>\n",
       "      <td>...</td>\n",
       "      <td>-0.003224</td>\n",
       "      <td>-0.011563</td>\n",
       "      <td>-0.017793</td>\n",
       "      <td>1.000000</td>\n",
       "      <td>-0.008418</td>\n",
       "      <td>-0.000828</td>\n",
       "      <td>-0.006827</td>\n",
       "      <td>-0.000229</td>\n",
       "      <td>-0.005137</td>\n",
       "      <td>-0.000397</td>\n",
       "    </tr>\n",
       "    <tr>\n",
       "      <th>Airline_Multiple carriers</th>\n",
       "      <td>0.118399</td>\n",
       "      <td>0.139793</td>\n",
       "      <td>0.018827</td>\n",
       "      <td>0.042163</td>\n",
       "      <td>0.053685</td>\n",
       "      <td>-0.149992</td>\n",
       "      <td>-0.109370</td>\n",
       "      <td>0.067930</td>\n",
       "      <td>-0.167455</td>\n",
       "      <td>NaN</td>\n",
       "      <td>...</td>\n",
       "      <td>-0.048292</td>\n",
       "      <td>-0.173196</td>\n",
       "      <td>-0.266497</td>\n",
       "      <td>-0.008418</td>\n",
       "      <td>1.000000</td>\n",
       "      <td>-0.012395</td>\n",
       "      <td>-0.102253</td>\n",
       "      <td>-0.003436</td>\n",
       "      <td>-0.076936</td>\n",
       "      <td>-0.005951</td>\n",
       "    </tr>\n",
       "    <tr>\n",
       "      <th>Airline_Multiple carriers Premium economy</th>\n",
       "      <td>0.009089</td>\n",
       "      <td>0.017650</td>\n",
       "      <td>0.012288</td>\n",
       "      <td>0.030839</td>\n",
       "      <td>-0.051222</td>\n",
       "      <td>-0.028672</td>\n",
       "      <td>-0.004624</td>\n",
       "      <td>0.013491</td>\n",
       "      <td>-0.001786</td>\n",
       "      <td>NaN</td>\n",
       "      <td>...</td>\n",
       "      <td>-0.004747</td>\n",
       "      <td>-0.017026</td>\n",
       "      <td>-0.026199</td>\n",
       "      <td>-0.000828</td>\n",
       "      <td>-0.012395</td>\n",
       "      <td>1.000000</td>\n",
       "      <td>-0.010052</td>\n",
       "      <td>-0.000338</td>\n",
       "      <td>-0.007563</td>\n",
       "      <td>-0.000585</td>\n",
       "    </tr>\n",
       "    <tr>\n",
       "      <th>Airline_SpiceJet</th>\n",
       "      <td>-0.274351</td>\n",
       "      <td>-0.296565</td>\n",
       "      <td>0.026067</td>\n",
       "      <td>0.022154</td>\n",
       "      <td>-0.011977</td>\n",
       "      <td>-0.010451</td>\n",
       "      <td>0.092634</td>\n",
       "      <td>-0.090058</td>\n",
       "      <td>0.012543</td>\n",
       "      <td>NaN</td>\n",
       "      <td>...</td>\n",
       "      <td>-0.039166</td>\n",
       "      <td>-0.140464</td>\n",
       "      <td>-0.216132</td>\n",
       "      <td>-0.006827</td>\n",
       "      <td>-0.102253</td>\n",
       "      <td>-0.010052</td>\n",
       "      <td>1.000000</td>\n",
       "      <td>-0.002786</td>\n",
       "      <td>-0.062396</td>\n",
       "      <td>-0.004827</td>\n",
       "    </tr>\n",
       "    <tr>\n",
       "      <th>Airline_Trujet</th>\n",
       "      <td>0.002519</td>\n",
       "      <td>-0.010381</td>\n",
       "      <td>-0.000501</td>\n",
       "      <td>-0.008569</td>\n",
       "      <td>-0.014199</td>\n",
       "      <td>0.000857</td>\n",
       "      <td>-0.010007</td>\n",
       "      <td>0.003739</td>\n",
       "      <td>-0.002750</td>\n",
       "      <td>NaN</td>\n",
       "      <td>...</td>\n",
       "      <td>-0.001316</td>\n",
       "      <td>-0.004720</td>\n",
       "      <td>-0.007262</td>\n",
       "      <td>-0.000229</td>\n",
       "      <td>-0.003436</td>\n",
       "      <td>-0.000338</td>\n",
       "      <td>-0.002786</td>\n",
       "      <td>1.000000</td>\n",
       "      <td>-0.002097</td>\n",
       "      <td>-0.000162</td>\n",
       "    </tr>\n",
       "    <tr>\n",
       "      <th>Airline_Vistara</th>\n",
       "      <td>-0.120447</td>\n",
       "      <td>-0.060654</td>\n",
       "      <td>0.010927</td>\n",
       "      <td>-0.013169</td>\n",
       "      <td>-0.017252</td>\n",
       "      <td>0.023906</td>\n",
       "      <td>-0.077903</td>\n",
       "      <td>0.068834</td>\n",
       "      <td>0.069422</td>\n",
       "      <td>NaN</td>\n",
       "      <td>...</td>\n",
       "      <td>-0.029469</td>\n",
       "      <td>-0.105686</td>\n",
       "      <td>-0.162619</td>\n",
       "      <td>-0.005137</td>\n",
       "      <td>-0.076936</td>\n",
       "      <td>-0.007563</td>\n",
       "      <td>-0.062396</td>\n",
       "      <td>-0.002097</td>\n",
       "      <td>1.000000</td>\n",
       "      <td>-0.003632</td>\n",
       "    </tr>\n",
       "    <tr>\n",
       "      <th>Airline_Vistara Premium economy</th>\n",
       "      <td>-0.020459</td>\n",
       "      <td>-0.000454</td>\n",
       "      <td>-0.000868</td>\n",
       "      <td>-0.020115</td>\n",
       "      <td>-0.019797</td>\n",
       "      <td>-0.003375</td>\n",
       "      <td>-0.011380</td>\n",
       "      <td>0.000776</td>\n",
       "      <td>0.000314</td>\n",
       "      <td>NaN</td>\n",
       "      <td>...</td>\n",
       "      <td>-0.002280</td>\n",
       "      <td>-0.008175</td>\n",
       "      <td>-0.012580</td>\n",
       "      <td>-0.000397</td>\n",
       "      <td>-0.005951</td>\n",
       "      <td>-0.000585</td>\n",
       "      <td>-0.004827</td>\n",
       "      <td>-0.000162</td>\n",
       "      <td>-0.003632</td>\n",
       "      <td>1.000000</td>\n",
       "    </tr>\n",
       "  </tbody>\n",
       "</table>\n",
       "<p>22 rows × 22 columns</p>\n",
       "</div>"
      ],
      "text/plain": [
       "                                           Total_Stops  Airline_Price  \\\n",
       "Total_Stops                                   1.000000       0.603897   \n",
       "Airline_Price                                 0.603897       1.000000   \n",
       "Oil_Price                                    -0.034005      -0.099865   \n",
       "Journey_Day                                  -0.009451      -0.153774   \n",
       "Journey_Month                                 0.054383      -0.103643   \n",
       "Dep_Hour                                     -0.061476       0.006799   \n",
       "Dep_Min                                      -0.002618      -0.024458   \n",
       "Arrival_Hour                                  0.038140       0.024244   \n",
       "Arrival_Min                                  -0.106940      -0.086155   \n",
       "Duration_Hours                                     NaN            NaN   \n",
       "Duration_Mintues                                   NaN            NaN   \n",
       "Airline_Air India                             0.271094       0.050432   \n",
       "Airline_GoAir                                -0.060110      -0.095151   \n",
       "Airline_IndiGo                               -0.302991      -0.361070   \n",
       "Airline_Jet Airways                           0.215063       0.416124   \n",
       "Airline_Jet Airways Business                  0.017876       0.253303   \n",
       "Airline_Multiple carriers                     0.118399       0.139793   \n",
       "Airline_Multiple carriers Premium economy     0.009089       0.017650   \n",
       "Airline_SpiceJet                             -0.274351      -0.296565   \n",
       "Airline_Trujet                                0.002519      -0.010381   \n",
       "Airline_Vistara                              -0.120447      -0.060654   \n",
       "Airline_Vistara Premium economy              -0.020459      -0.000454   \n",
       "\n",
       "                                           Oil_Price  Journey_Day  \\\n",
       "Total_Stops                                -0.034005    -0.009451   \n",
       "Airline_Price                              -0.099865    -0.153774   \n",
       "Oil_Price                                   1.000000     0.165733   \n",
       "Journey_Day                                 0.165733     1.000000   \n",
       "Journey_Month                              -0.113118    -0.038359   \n",
       "Dep_Hour                                    0.013920     0.002170   \n",
       "Dep_Min                                    -0.037929    -0.008170   \n",
       "Arrival_Hour                                0.010555    -0.003245   \n",
       "Arrival_Min                                 0.011817    -0.017510   \n",
       "Duration_Hours                                   NaN          NaN   \n",
       "Duration_Mintues                                 NaN          NaN   \n",
       "Airline_Air India                          -0.002968    -0.032490   \n",
       "Airline_GoAir                               0.011900    -0.003122   \n",
       "Airline_IndiGo                              0.021377     0.007281   \n",
       "Airline_Jet Airways                        -0.057486    -0.017304   \n",
       "Airline_Jet Airways Business               -0.025681    -0.031713   \n",
       "Airline_Multiple carriers                   0.018827     0.042163   \n",
       "Airline_Multiple carriers Premium economy   0.012288     0.030839   \n",
       "Airline_SpiceJet                            0.026067     0.022154   \n",
       "Airline_Trujet                             -0.000501    -0.008569   \n",
       "Airline_Vistara                             0.010927    -0.013169   \n",
       "Airline_Vistara Premium economy            -0.000868    -0.020115   \n",
       "\n",
       "                                           Journey_Month  Dep_Hour   Dep_Min  \\\n",
       "Total_Stops                                     0.054383 -0.061476 -0.002618   \n",
       "Airline_Price                                  -0.103643  0.006799 -0.024458   \n",
       "Oil_Price                                      -0.113118  0.013920 -0.037929   \n",
       "Journey_Day                                    -0.038359  0.002170 -0.008170   \n",
       "Journey_Month                                   1.000000  0.039127 -0.059267   \n",
       "Dep_Hour                                        0.039127  1.000000 -0.024745   \n",
       "Dep_Min                                        -0.059267 -0.024745  1.000000   \n",
       "Arrival_Hour                                   -0.003927  0.005180  0.043122   \n",
       "Arrival_Min                                    -0.100626  0.067911 -0.017597   \n",
       "Duration_Hours                                       NaN       NaN       NaN   \n",
       "Duration_Mintues                                     NaN       NaN       NaN   \n",
       "Airline_Air India                              -0.045981 -0.012879 -0.045688   \n",
       "Airline_GoAir                                  -0.004494 -0.016373  0.076751   \n",
       "Airline_IndiGo                                 -0.048504 -0.023395 -0.014714   \n",
       "Airline_Jet Airways                             0.059735  0.113942  0.024455   \n",
       "Airline_Jet Airways Business                   -0.034787 -0.007524  0.009168   \n",
       "Airline_Multiple carriers                       0.053685 -0.149992 -0.109370   \n",
       "Airline_Multiple carriers Premium economy      -0.051222 -0.028672 -0.004624   \n",
       "Airline_SpiceJet                               -0.011977 -0.010451  0.092634   \n",
       "Airline_Trujet                                 -0.014199  0.000857 -0.010007   \n",
       "Airline_Vistara                                -0.017252  0.023906 -0.077903   \n",
       "Airline_Vistara Premium economy                -0.019797 -0.003375 -0.011380   \n",
       "\n",
       "                                           Arrival_Hour  Arrival_Min  \\\n",
       "Total_Stops                                    0.038140    -0.106940   \n",
       "Airline_Price                                  0.024244    -0.086155   \n",
       "Oil_Price                                      0.010555     0.011817   \n",
       "Journey_Day                                   -0.003245    -0.017510   \n",
       "Journey_Month                                 -0.003927    -0.100626   \n",
       "Dep_Hour                                       0.005180     0.067911   \n",
       "Dep_Min                                        0.043122    -0.017597   \n",
       "Arrival_Hour                                   1.000000    -0.154363   \n",
       "Arrival_Min                                   -0.154363     1.000000   \n",
       "Duration_Hours                                      NaN          NaN   \n",
       "Duration_Mintues                                    NaN          NaN   \n",
       "Airline_Air India                              0.088872     0.061231   \n",
       "Airline_GoAir                                  0.018526     0.096839   \n",
       "Airline_IndiGo                                -0.071491     0.035124   \n",
       "Airline_Jet Airways                           -0.027377    -0.057698   \n",
       "Airline_Jet Airways Business                  -0.014456     0.005232   \n",
       "Airline_Multiple carriers                      0.067930    -0.167455   \n",
       "Airline_Multiple carriers Premium economy      0.013491    -0.001786   \n",
       "Airline_SpiceJet                              -0.090058     0.012543   \n",
       "Airline_Trujet                                 0.003739    -0.002750   \n",
       "Airline_Vistara                                0.068834     0.069422   \n",
       "Airline_Vistara Premium economy                0.000776     0.000314   \n",
       "\n",
       "                                           Duration_Hours  ...  Airline_GoAir  \\\n",
       "Total_Stops                                           NaN  ...      -0.060110   \n",
       "Airline_Price                                         NaN  ...      -0.095151   \n",
       "Oil_Price                                             NaN  ...       0.011900   \n",
       "Journey_Day                                           NaN  ...      -0.003122   \n",
       "Journey_Month                                         NaN  ...      -0.004494   \n",
       "Dep_Hour                                              NaN  ...      -0.016373   \n",
       "Dep_Min                                               NaN  ...       0.076751   \n",
       "Arrival_Hour                                          NaN  ...       0.018526   \n",
       "Arrival_Min                                           NaN  ...       0.096839   \n",
       "Duration_Hours                                        NaN  ...            NaN   \n",
       "Duration_Mintues                                      NaN  ...            NaN   \n",
       "Airline_Air India                                     NaN  ...      -0.060221   \n",
       "Airline_GoAir                                         NaN  ...       1.000000   \n",
       "Airline_IndiGo                                        NaN  ...      -0.066339   \n",
       "Airline_Jet Airways                                   NaN  ...      -0.102076   \n",
       "Airline_Jet Airways Business                          NaN  ...      -0.003224   \n",
       "Airline_Multiple carriers                             NaN  ...      -0.048292   \n",
       "Airline_Multiple carriers Premium economy             NaN  ...      -0.004747   \n",
       "Airline_SpiceJet                                      NaN  ...      -0.039166   \n",
       "Airline_Trujet                                        NaN  ...      -0.001316   \n",
       "Airline_Vistara                                       NaN  ...      -0.029469   \n",
       "Airline_Vistara Premium economy                       NaN  ...      -0.002280   \n",
       "\n",
       "                                           Airline_IndiGo  \\\n",
       "Total_Stops                                     -0.302991   \n",
       "Airline_Price                                   -0.361070   \n",
       "Oil_Price                                        0.021377   \n",
       "Journey_Day                                      0.007281   \n",
       "Journey_Month                                   -0.048504   \n",
       "Dep_Hour                                        -0.023395   \n",
       "Dep_Min                                         -0.014714   \n",
       "Arrival_Hour                                    -0.071491   \n",
       "Arrival_Min                                      0.035124   \n",
       "Duration_Hours                                        NaN   \n",
       "Duration_Mintues                                      NaN   \n",
       "Airline_Air India                               -0.215977   \n",
       "Airline_GoAir                                   -0.066339   \n",
       "Airline_IndiGo                                   1.000000   \n",
       "Airline_Jet Airways                             -0.366085   \n",
       "Airline_Jet Airways Business                    -0.011563   \n",
       "Airline_Multiple carriers                       -0.173196   \n",
       "Airline_Multiple carriers Premium economy       -0.017026   \n",
       "Airline_SpiceJet                                -0.140464   \n",
       "Airline_Trujet                                  -0.004720   \n",
       "Airline_Vistara                                 -0.105686   \n",
       "Airline_Vistara Premium economy                 -0.008175   \n",
       "\n",
       "                                           Airline_Jet Airways  \\\n",
       "Total_Stops                                           0.215063   \n",
       "Airline_Price                                         0.416124   \n",
       "Oil_Price                                            -0.057486   \n",
       "Journey_Day                                          -0.017304   \n",
       "Journey_Month                                         0.059735   \n",
       "Dep_Hour                                              0.113942   \n",
       "Dep_Min                                               0.024455   \n",
       "Arrival_Hour                                         -0.027377   \n",
       "Arrival_Min                                          -0.057698   \n",
       "Duration_Hours                                             NaN   \n",
       "Duration_Mintues                                           NaN   \n",
       "Airline_Air India                                    -0.332324   \n",
       "Airline_GoAir                                        -0.102076   \n",
       "Airline_IndiGo                                       -0.366085   \n",
       "Airline_Jet Airways                                   1.000000   \n",
       "Airline_Jet Airways Business                         -0.017793   \n",
       "Airline_Multiple carriers                            -0.266497   \n",
       "Airline_Multiple carriers Premium economy            -0.026199   \n",
       "Airline_SpiceJet                                     -0.216132   \n",
       "Airline_Trujet                                       -0.007262   \n",
       "Airline_Vistara                                      -0.162619   \n",
       "Airline_Vistara Premium economy                      -0.012580   \n",
       "\n",
       "                                           Airline_Jet Airways Business  \\\n",
       "Total_Stops                                                    0.017876   \n",
       "Airline_Price                                                  0.253303   \n",
       "Oil_Price                                                     -0.025681   \n",
       "Journey_Day                                                   -0.031713   \n",
       "Journey_Month                                                 -0.034787   \n",
       "Dep_Hour                                                      -0.007524   \n",
       "Dep_Min                                                        0.009168   \n",
       "Arrival_Hour                                                  -0.014456   \n",
       "Arrival_Min                                                    0.005232   \n",
       "Duration_Hours                                                      NaN   \n",
       "Duration_Mintues                                                    NaN   \n",
       "Airline_Air India                                             -0.010497   \n",
       "Airline_GoAir                                                 -0.003224   \n",
       "Airline_IndiGo                                                -0.011563   \n",
       "Airline_Jet Airways                                           -0.017793   \n",
       "Airline_Jet Airways Business                                   1.000000   \n",
       "Airline_Multiple carriers                                     -0.008418   \n",
       "Airline_Multiple carriers Premium economy                     -0.000828   \n",
       "Airline_SpiceJet                                              -0.006827   \n",
       "Airline_Trujet                                                -0.000229   \n",
       "Airline_Vistara                                               -0.005137   \n",
       "Airline_Vistara Premium economy                               -0.000397   \n",
       "\n",
       "                                           Airline_Multiple carriers  \\\n",
       "Total_Stops                                                 0.118399   \n",
       "Airline_Price                                               0.139793   \n",
       "Oil_Price                                                   0.018827   \n",
       "Journey_Day                                                 0.042163   \n",
       "Journey_Month                                               0.053685   \n",
       "Dep_Hour                                                   -0.149992   \n",
       "Dep_Min                                                    -0.109370   \n",
       "Arrival_Hour                                                0.067930   \n",
       "Arrival_Min                                                -0.167455   \n",
       "Duration_Hours                                                   NaN   \n",
       "Duration_Mintues                                                 NaN   \n",
       "Airline_Air India                                          -0.157223   \n",
       "Airline_GoAir                                              -0.048292   \n",
       "Airline_IndiGo                                             -0.173196   \n",
       "Airline_Jet Airways                                        -0.266497   \n",
       "Airline_Jet Airways Business                               -0.008418   \n",
       "Airline_Multiple carriers                                   1.000000   \n",
       "Airline_Multiple carriers Premium economy                  -0.012395   \n",
       "Airline_SpiceJet                                           -0.102253   \n",
       "Airline_Trujet                                             -0.003436   \n",
       "Airline_Vistara                                            -0.076936   \n",
       "Airline_Vistara Premium economy                            -0.005951   \n",
       "\n",
       "                                           Airline_Multiple carriers Premium economy  \\\n",
       "Total_Stops                                                                 0.009089   \n",
       "Airline_Price                                                               0.017650   \n",
       "Oil_Price                                                                   0.012288   \n",
       "Journey_Day                                                                 0.030839   \n",
       "Journey_Month                                                              -0.051222   \n",
       "Dep_Hour                                                                   -0.028672   \n",
       "Dep_Min                                                                    -0.004624   \n",
       "Arrival_Hour                                                                0.013491   \n",
       "Arrival_Min                                                                -0.001786   \n",
       "Duration_Hours                                                                   NaN   \n",
       "Duration_Mintues                                                                 NaN   \n",
       "Airline_Air India                                                          -0.015456   \n",
       "Airline_GoAir                                                              -0.004747   \n",
       "Airline_IndiGo                                                             -0.017026   \n",
       "Airline_Jet Airways                                                        -0.026199   \n",
       "Airline_Jet Airways Business                                               -0.000828   \n",
       "Airline_Multiple carriers                                                  -0.012395   \n",
       "Airline_Multiple carriers Premium economy                                   1.000000   \n",
       "Airline_SpiceJet                                                           -0.010052   \n",
       "Airline_Trujet                                                             -0.000338   \n",
       "Airline_Vistara                                                            -0.007563   \n",
       "Airline_Vistara Premium economy                                            -0.000585   \n",
       "\n",
       "                                           Airline_SpiceJet  Airline_Trujet  \\\n",
       "Total_Stops                                       -0.274351        0.002519   \n",
       "Airline_Price                                     -0.296565       -0.010381   \n",
       "Oil_Price                                          0.026067       -0.000501   \n",
       "Journey_Day                                        0.022154       -0.008569   \n",
       "Journey_Month                                     -0.011977       -0.014199   \n",
       "Dep_Hour                                          -0.010451        0.000857   \n",
       "Dep_Min                                            0.092634       -0.010007   \n",
       "Arrival_Hour                                      -0.090058        0.003739   \n",
       "Arrival_Min                                        0.012543       -0.002750   \n",
       "Duration_Hours                                          NaN             NaN   \n",
       "Duration_Mintues                                        NaN             NaN   \n",
       "Airline_Air India                                 -0.127510       -0.004284   \n",
       "Airline_GoAir                                     -0.039166       -0.001316   \n",
       "Airline_IndiGo                                    -0.140464       -0.004720   \n",
       "Airline_Jet Airways                               -0.216132       -0.007262   \n",
       "Airline_Jet Airways Business                      -0.006827       -0.000229   \n",
       "Airline_Multiple carriers                         -0.102253       -0.003436   \n",
       "Airline_Multiple carriers Premium economy         -0.010052       -0.000338   \n",
       "Airline_SpiceJet                                   1.000000       -0.002786   \n",
       "Airline_Trujet                                    -0.002786        1.000000   \n",
       "Airline_Vistara                                   -0.062396       -0.002097   \n",
       "Airline_Vistara Premium economy                   -0.004827       -0.000162   \n",
       "\n",
       "                                           Airline_Vistara  \\\n",
       "Total_Stops                                      -0.120447   \n",
       "Airline_Price                                    -0.060654   \n",
       "Oil_Price                                         0.010927   \n",
       "Journey_Day                                      -0.013169   \n",
       "Journey_Month                                    -0.017252   \n",
       "Dep_Hour                                          0.023906   \n",
       "Dep_Min                                          -0.077903   \n",
       "Arrival_Hour                                      0.068834   \n",
       "Arrival_Min                                       0.069422   \n",
       "Duration_Hours                                         NaN   \n",
       "Duration_Mintues                                       NaN   \n",
       "Airline_Air India                                -0.095939   \n",
       "Airline_GoAir                                    -0.029469   \n",
       "Airline_IndiGo                                   -0.105686   \n",
       "Airline_Jet Airways                              -0.162619   \n",
       "Airline_Jet Airways Business                     -0.005137   \n",
       "Airline_Multiple carriers                        -0.076936   \n",
       "Airline_Multiple carriers Premium economy        -0.007563   \n",
       "Airline_SpiceJet                                 -0.062396   \n",
       "Airline_Trujet                                   -0.002097   \n",
       "Airline_Vistara                                   1.000000   \n",
       "Airline_Vistara Premium economy                  -0.003632   \n",
       "\n",
       "                                           Airline_Vistara Premium economy  \n",
       "Total_Stops                                                      -0.020459  \n",
       "Airline_Price                                                    -0.000454  \n",
       "Oil_Price                                                        -0.000868  \n",
       "Journey_Day                                                      -0.020115  \n",
       "Journey_Month                                                    -0.019797  \n",
       "Dep_Hour                                                         -0.003375  \n",
       "Dep_Min                                                          -0.011380  \n",
       "Arrival_Hour                                                      0.000776  \n",
       "Arrival_Min                                                       0.000314  \n",
       "Duration_Hours                                                         NaN  \n",
       "Duration_Mintues                                                       NaN  \n",
       "Airline_Air India                                                -0.007421  \n",
       "Airline_GoAir                                                    -0.002280  \n",
       "Airline_IndiGo                                                   -0.008175  \n",
       "Airline_Jet Airways                                              -0.012580  \n",
       "Airline_Jet Airways Business                                     -0.000397  \n",
       "Airline_Multiple carriers                                        -0.005951  \n",
       "Airline_Multiple carriers Premium economy                        -0.000585  \n",
       "Airline_SpiceJet                                                 -0.004827  \n",
       "Airline_Trujet                                                   -0.000162  \n",
       "Airline_Vistara                                                  -0.003632  \n",
       "Airline_Vistara Premium economy                                   1.000000  \n",
       "\n",
       "[22 rows x 22 columns]"
      ]
     },
     "execution_count": 75,
     "metadata": {},
     "output_type": "execute_result"
    }
   ],
   "source": [
    "#Finding correlations between the different attributes\n",
    "train_data.corr()"
   ]
  },
  {
   "cell_type": "code",
   "execution_count": 76,
   "id": "2ca4205b-a1c9-4054-9811-2afc872092d4",
   "metadata": {},
   "outputs": [
    {
     "data": {
      "text/plain": [
       "(10682, 22)"
      ]
     },
     "execution_count": 76,
     "metadata": {},
     "output_type": "execute_result"
    }
   ],
   "source": [
    "train_data.shape"
   ]
  },
  {
   "cell_type": "code",
   "execution_count": 77,
   "id": "605d57a6-99d4-4f38-bd42-b248e222c1a9",
   "metadata": {},
   "outputs": [
    {
     "data": {
      "text/plain": [
       "Index(['Total_Stops', 'Airline_Price', 'Oil_Price', 'Journey_Day',\n",
       "       'Journey_Month', 'Dep_Hour', 'Dep_Min', 'Arrival_Hour', 'Arrival_Min',\n",
       "       'Duration_Hours', 'Duration_Mintues', 'Airline_Air India',\n",
       "       'Airline_GoAir', 'Airline_IndiGo', 'Airline_Jet Airways',\n",
       "       'Airline_Jet Airways Business', 'Airline_Multiple carriers',\n",
       "       'Airline_Multiple carriers Premium economy', 'Airline_SpiceJet',\n",
       "       'Airline_Trujet', 'Airline_Vistara', 'Airline_Vistara Premium economy'],\n",
       "      dtype='object')"
      ]
     },
     "execution_count": 77,
     "metadata": {},
     "output_type": "execute_result"
    }
   ],
   "source": [
    "train_data.columns"
   ]
  },
  {
   "cell_type": "code",
   "execution_count": 78,
   "id": "1e70c18e-669f-4cef-a464-025640207555",
   "metadata": {},
   "outputs": [],
   "source": [
    "X = train_data.loc[:,['Total_Stops', 'Airline_Price', 'Oil_Price', 'Journey_Day',\n",
    "       'Journey_Month', 'Dep_Hour', 'Dep_Min', 'Arrival_Hour', 'Arrival_Min',\n",
    "       'Duration_Hours', 'Duration_Mintues', 'Airline_Air India',\n",
    "       'Airline_GoAir', 'Airline_IndiGo', 'Airline_Jet Airways',\n",
    "       'Airline_Jet Airways Business', 'Airline_Multiple carriers',\n",
    "       'Airline_Multiple carriers Premium economy', 'Airline_SpiceJet',\n",
    "       'Airline_Vistara']]"
   ]
  },
  {
   "cell_type": "code",
   "execution_count": 79,
   "id": "e0028b54-b824-4d09-b765-608de4c32e1d",
   "metadata": {},
   "outputs": [
    {
     "data": {
      "text/html": [
       "<div>\n",
       "<style scoped>\n",
       "    .dataframe tbody tr th:only-of-type {\n",
       "        vertical-align: middle;\n",
       "    }\n",
       "\n",
       "    .dataframe tbody tr th {\n",
       "        vertical-align: top;\n",
       "    }\n",
       "\n",
       "    .dataframe thead th {\n",
       "        text-align: right;\n",
       "    }\n",
       "</style>\n",
       "<table border=\"1\" class=\"dataframe\">\n",
       "  <thead>\n",
       "    <tr style=\"text-align: right;\">\n",
       "      <th></th>\n",
       "      <th>Total_Stops</th>\n",
       "      <th>Airline_Price</th>\n",
       "      <th>Oil_Price</th>\n",
       "      <th>Journey_Day</th>\n",
       "      <th>Journey_Month</th>\n",
       "      <th>Dep_Hour</th>\n",
       "      <th>Dep_Min</th>\n",
       "      <th>Arrival_Hour</th>\n",
       "      <th>Arrival_Min</th>\n",
       "      <th>Duration_Hours</th>\n",
       "      <th>Duration_Mintues</th>\n",
       "      <th>Airline_Air India</th>\n",
       "      <th>Airline_GoAir</th>\n",
       "      <th>Airline_IndiGo</th>\n",
       "      <th>Airline_Jet Airways</th>\n",
       "      <th>Airline_Jet Airways Business</th>\n",
       "      <th>Airline_Multiple carriers</th>\n",
       "      <th>Airline_Multiple carriers Premium economy</th>\n",
       "      <th>Airline_SpiceJet</th>\n",
       "      <th>Airline_Vistara</th>\n",
       "    </tr>\n",
       "  </thead>\n",
       "  <tbody>\n",
       "    <tr>\n",
       "      <th>0</th>\n",
       "      <td>0</td>\n",
       "      <td>3898</td>\n",
       "      <td>67.35</td>\n",
       "      <td>24</td>\n",
       "      <td>3</td>\n",
       "      <td>22</td>\n",
       "      <td>20</td>\n",
       "      <td>1</td>\n",
       "      <td>10</td>\n",
       "      <td>8</td>\n",
       "      <td>20</td>\n",
       "      <td>0</td>\n",
       "      <td>0</td>\n",
       "      <td>1</td>\n",
       "      <td>0</td>\n",
       "      <td>0</td>\n",
       "      <td>0</td>\n",
       "      <td>0</td>\n",
       "      <td>0</td>\n",
       "      <td>0</td>\n",
       "    </tr>\n",
       "    <tr>\n",
       "      <th>1</th>\n",
       "      <td>2</td>\n",
       "      <td>7663</td>\n",
       "      <td>67.35</td>\n",
       "      <td>1</td>\n",
       "      <td>5</td>\n",
       "      <td>5</td>\n",
       "      <td>50</td>\n",
       "      <td>13</td>\n",
       "      <td>15</td>\n",
       "      <td>8</td>\n",
       "      <td>20</td>\n",
       "      <td>1</td>\n",
       "      <td>0</td>\n",
       "      <td>0</td>\n",
       "      <td>0</td>\n",
       "      <td>0</td>\n",
       "      <td>0</td>\n",
       "      <td>0</td>\n",
       "      <td>0</td>\n",
       "      <td>0</td>\n",
       "    </tr>\n",
       "    <tr>\n",
       "      <th>2</th>\n",
       "      <td>2</td>\n",
       "      <td>13883</td>\n",
       "      <td>67.35</td>\n",
       "      <td>9</td>\n",
       "      <td>6</td>\n",
       "      <td>9</td>\n",
       "      <td>25</td>\n",
       "      <td>4</td>\n",
       "      <td>25</td>\n",
       "      <td>8</td>\n",
       "      <td>20</td>\n",
       "      <td>0</td>\n",
       "      <td>0</td>\n",
       "      <td>0</td>\n",
       "      <td>1</td>\n",
       "      <td>0</td>\n",
       "      <td>0</td>\n",
       "      <td>0</td>\n",
       "      <td>0</td>\n",
       "      <td>0</td>\n",
       "    </tr>\n",
       "    <tr>\n",
       "      <th>3</th>\n",
       "      <td>1</td>\n",
       "      <td>6219</td>\n",
       "      <td>67.35</td>\n",
       "      <td>12</td>\n",
       "      <td>5</td>\n",
       "      <td>18</td>\n",
       "      <td>5</td>\n",
       "      <td>23</td>\n",
       "      <td>30</td>\n",
       "      <td>8</td>\n",
       "      <td>20</td>\n",
       "      <td>0</td>\n",
       "      <td>0</td>\n",
       "      <td>1</td>\n",
       "      <td>0</td>\n",
       "      <td>0</td>\n",
       "      <td>0</td>\n",
       "      <td>0</td>\n",
       "      <td>0</td>\n",
       "      <td>0</td>\n",
       "    </tr>\n",
       "    <tr>\n",
       "      <th>4</th>\n",
       "      <td>1</td>\n",
       "      <td>13303</td>\n",
       "      <td>63.71</td>\n",
       "      <td>1</td>\n",
       "      <td>3</td>\n",
       "      <td>16</td>\n",
       "      <td>50</td>\n",
       "      <td>21</td>\n",
       "      <td>35</td>\n",
       "      <td>8</td>\n",
       "      <td>20</td>\n",
       "      <td>0</td>\n",
       "      <td>0</td>\n",
       "      <td>1</td>\n",
       "      <td>0</td>\n",
       "      <td>0</td>\n",
       "      <td>0</td>\n",
       "      <td>0</td>\n",
       "      <td>0</td>\n",
       "      <td>0</td>\n",
       "    </tr>\n",
       "  </tbody>\n",
       "</table>\n",
       "</div>"
      ],
      "text/plain": [
       "   Total_Stops  Airline_Price  Oil_Price  Journey_Day  Journey_Month  \\\n",
       "0            0           3898      67.35           24              3   \n",
       "1            2           7663      67.35            1              5   \n",
       "2            2          13883      67.35            9              6   \n",
       "3            1           6219      67.35           12              5   \n",
       "4            1          13303      63.71            1              3   \n",
       "\n",
       "   Dep_Hour  Dep_Min  Arrival_Hour  Arrival_Min  Duration_Hours  \\\n",
       "0        22       20             1           10               8   \n",
       "1         5       50            13           15               8   \n",
       "2         9       25             4           25               8   \n",
       "3        18        5            23           30               8   \n",
       "4        16       50            21           35               8   \n",
       "\n",
       "   Duration_Mintues  Airline_Air India  Airline_GoAir  Airline_IndiGo  \\\n",
       "0                20                  0              0               1   \n",
       "1                20                  1              0               0   \n",
       "2                20                  0              0               0   \n",
       "3                20                  0              0               1   \n",
       "4                20                  0              0               1   \n",
       "\n",
       "   Airline_Jet Airways  Airline_Jet Airways Business  \\\n",
       "0                    0                             0   \n",
       "1                    0                             0   \n",
       "2                    1                             0   \n",
       "3                    0                             0   \n",
       "4                    0                             0   \n",
       "\n",
       "   Airline_Multiple carriers  Airline_Multiple carriers Premium economy  \\\n",
       "0                          0                                          0   \n",
       "1                          0                                          0   \n",
       "2                          0                                          0   \n",
       "3                          0                                          0   \n",
       "4                          0                                          0   \n",
       "\n",
       "   Airline_SpiceJet  Airline_Vistara  \n",
       "0                 0                0  \n",
       "1                 0                0  \n",
       "2                 0                0  \n",
       "3                 0                0  \n",
       "4                 0                0  "
      ]
     },
     "execution_count": 79,
     "metadata": {},
     "output_type": "execute_result"
    }
   ],
   "source": [
    "X.head()"
   ]
  },
  {
   "cell_type": "code",
   "execution_count": 80,
   "id": "96fcea27-8b0e-4e88-82f7-f504616aff59",
   "metadata": {},
   "outputs": [
    {
     "data": {
      "text/plain": [
       "0     3898\n",
       "1     7663\n",
       "2    13883\n",
       "3     6219\n",
       "4    13303\n",
       "Name: Airline_Price, dtype: int64"
      ]
     },
     "execution_count": 80,
     "metadata": {},
     "output_type": "execute_result"
    }
   ],
   "source": [
    "Y = train_data.iloc[:, 1]\n",
    "Y.head()"
   ]
  },
  {
   "cell_type": "code",
   "execution_count": 81,
   "id": "3144f8cc-a672-4f82-b01c-84ae6c6a795e",
   "metadata": {},
   "outputs": [
    {
     "data": {
      "text/plain": [
       "ExtraTreesRegressor()"
      ]
     },
     "execution_count": 81,
     "metadata": {},
     "output_type": "execute_result"
    }
   ],
   "source": [
    "from sklearn.ensemble import ExtraTreesRegressor\n",
    "regressor = ExtraTreesRegressor()\n",
    "regressor.fit(X, Y)"
   ]
  },
  {
   "cell_type": "code",
   "execution_count": 1,
   "id": "9a59b951-f2a2-4bd6-85b3-cc8508b4a6b9",
   "metadata": {
    "tags": []
   },
   "outputs": [
    {
     "ename": "NameError",
     "evalue": "name 'plt' is not defined",
     "output_type": "error",
     "traceback": [
      "\u001b[1;31m---------------------------------------------------------------------------\u001b[0m",
      "\u001b[1;31mNameError\u001b[0m                                 Traceback (most recent call last)",
      "\u001b[1;32mC:\\Users\\JOSHUA~1\\AppData\\Local\\Temp/ipykernel_12316/2661364292.py\u001b[0m in \u001b[0;36m<module>\u001b[1;34m\u001b[0m\n\u001b[1;32m----> 1\u001b[1;33m \u001b[0mplt\u001b[0m\u001b[1;33m.\u001b[0m\u001b[0mfigure\u001b[0m\u001b[1;33m(\u001b[0m\u001b[0mfigsize\u001b[0m \u001b[1;33m=\u001b[0m \u001b[1;33m(\u001b[0m\u001b[1;36m12\u001b[0m\u001b[1;33m,\u001b[0m\u001b[1;36m8\u001b[0m\u001b[1;33m)\u001b[0m\u001b[1;33m)\u001b[0m\u001b[1;33m\u001b[0m\u001b[1;33m\u001b[0m\u001b[0m\n\u001b[0m\u001b[0;32m      2\u001b[0m \u001b[0mfeat_importances\u001b[0m \u001b[1;33m=\u001b[0m \u001b[0mpd\u001b[0m\u001b[1;33m.\u001b[0m\u001b[0mSeries\u001b[0m\u001b[1;33m(\u001b[0m\u001b[0mregressor\u001b[0m\u001b[1;33m.\u001b[0m\u001b[0mfeature_importances_\u001b[0m\u001b[1;33m,\u001b[0m \u001b[0mindex\u001b[0m\u001b[1;33m=\u001b[0m\u001b[0mX\u001b[0m\u001b[1;33m.\u001b[0m\u001b[0mcolumns\u001b[0m\u001b[1;33m)\u001b[0m\u001b[1;33m\u001b[0m\u001b[1;33m\u001b[0m\u001b[0m\n\u001b[0;32m      3\u001b[0m \u001b[0mfeat_importances\u001b[0m\u001b[1;33m.\u001b[0m\u001b[0mnlargest\u001b[0m\u001b[1;33m(\u001b[0m\u001b[1;36m20\u001b[0m\u001b[1;33m)\u001b[0m\u001b[1;33m.\u001b[0m\u001b[0mplot\u001b[0m\u001b[1;33m(\u001b[0m\u001b[0mkind\u001b[0m\u001b[1;33m=\u001b[0m\u001b[1;34m'barh'\u001b[0m\u001b[1;33m)\u001b[0m\u001b[1;33m\u001b[0m\u001b[1;33m\u001b[0m\u001b[0m\n\u001b[0;32m      4\u001b[0m \u001b[0mplt\u001b[0m\u001b[1;33m.\u001b[0m\u001b[0mshow\u001b[0m\u001b[1;33m(\u001b[0m\u001b[1;33m)\u001b[0m\u001b[1;33m\u001b[0m\u001b[1;33m\u001b[0m\u001b[0m\n\u001b[0;32m      5\u001b[0m \u001b[1;31m#Here we see that the most relevant data attributes are total stops and airlines while the least are duration\u001b[0m\u001b[1;33m\u001b[0m\u001b[1;33m\u001b[0m\u001b[0m\n",
      "\u001b[1;31mNameError\u001b[0m: name 'plt' is not defined"
     ]
    }
   ],
   "source": [
    "plt.figure(figsize = (12,8))\n",
    "feat_importances = pd.Series(regressor.feature_importances_, index=X.columns)\n",
    "feat_importances.nlargest(20).plot(kind='barh')\n",
    "plt.show()\n",
    "#Here we see that the most relevant data attributes are total stops and airlines while the least are duration\n",
    "# There is a positive correlation bewteen the most relevant data attributes and the airline price"
   ]
  },
  {
   "cell_type": "code",
   "execution_count": 83,
   "id": "02b58756-8f8b-492c-a52f-ba8a7f47f684",
   "metadata": {},
   "outputs": [],
   "source": [
    "from sklearn.model_selection import train_test_split\n",
    "X_train, X_test, Y_train, Y_test = train_test_split(X, Y, test_size=0.20, random_state=42)"
   ]
  },
  {
   "cell_type": "code",
   "execution_count": 84,
   "id": "12bde4fa-6532-4262-865f-da95724538ad",
   "metadata": {
    "tags": []
   },
   "outputs": [
    {
     "data": {
      "text/plain": [
       "RandomForestRegressor()"
      ]
     },
     "execution_count": 84,
     "metadata": {},
     "output_type": "execute_result"
    }
   ],
   "source": [
    "from sklearn.ensemble import RandomForestRegressor\n",
    "reg_rf = RandomForestRegressor()\n",
    "reg_rf.fit(X_train, Y_train)"
   ]
  },
  {
   "cell_type": "code",
   "execution_count": 85,
   "id": "c1b5d48d-1b3a-4136-9acb-df38618eddb4",
   "metadata": {
    "tags": []
   },
   "outputs": [],
   "source": [
    "Y_pred = reg_rf.predict(X_test)"
   ]
  },
  {
   "cell_type": "code",
   "execution_count": 86,
   "id": "d0a44a93-6622-42de-a8fa-176111f6a7f1",
   "metadata": {
    "tags": []
   },
   "outputs": [
    {
     "name": "stdout",
     "output_type": "stream",
     "text": [
      "MAE: 2.8621899859616344\n",
      "MSE: 1488.0336489471263\n",
      "RMSE: 38.575039195665454\n",
      "Accuracy: 0.5100608329433786\n"
     ]
    }
   ],
   "source": [
    "from sklearn import metrics\n",
    "acc = np.sum(np.equal(Y_test, Y_pred)) / len(Y_test)\n",
    "print('MAE:', metrics.mean_absolute_error(Y_test, Y_pred))\n",
    "print('MSE:', metrics.mean_squared_error(Y_test, Y_pred))\n",
    "print('RMSE:', np.sqrt(metrics.mean_squared_error(Y_test, Y_pred)))\n",
    "print('Accuracy:', acc)"
   ]
  },
  {
   "cell_type": "code",
   "execution_count": 87,
   "id": "bfe58fb8-7446-4b10-8c4f-416d7251c1b3",
   "metadata": {},
   "outputs": [
    {
     "data": {
      "text/plain": [
       "DecisionTreeRegressor()"
      ]
     },
     "execution_count": 87,
     "metadata": {},
     "output_type": "execute_result"
    }
   ],
   "source": [
    "from sklearn.tree import DecisionTreeRegressor\n",
    "tree = DecisionTreeRegressor()\n",
    "tree.fit(X_train, Y_train)"
   ]
  },
  {
   "cell_type": "code",
   "execution_count": 88,
   "id": "1d67f4e1-9ba3-4c33-8897-c364172d6818",
   "metadata": {},
   "outputs": [],
   "source": [
    "pred = tree.predict(X_test)\n",
    "acc = np.sum(np.equal(Y_test, pred)) / len(Y_test)"
   ]
  },
  {
   "cell_type": "code",
   "execution_count": 89,
   "id": "14390e28-0552-4436-8112-bd28566ba580",
   "metadata": {},
   "outputs": [
    {
     "name": "stdout",
     "output_type": "stream",
     "text": [
      "MAE: 4.26626111371081\n",
      "MSE: 11811.7084698175\n",
      "RMSE: 108.68168415063091\n",
      "Accuracy: 0.8685072531586336\n"
     ]
    }
   ],
   "source": [
    "print('MAE:', metrics.mean_absolute_error(Y_test,pred))\n",
    "print('MSE:', metrics.mean_squared_error(Y_test, pred))\n",
    "print('RMSE:', np.sqrt(metrics.mean_squared_error(Y_test,pred)))\n",
    "print('Accuracy:', acc)\n",
    "#It seems like the DecisionTreeRegressor was more accurate than the RandomForestRegressor; however, the random regressor has a lower margin of error on average when it comes to predicting values"
   ]
  }
 ],
 "metadata": {
  "kernelspec": {
   "display_name": "Python 3 (ipykernel)",
   "language": "python",
   "name": "python3"
  },
  "language_info": {
   "codemirror_mode": {
    "name": "ipython",
    "version": 3
   },
   "file_extension": ".py",
   "mimetype": "text/x-python",
   "name": "python",
   "nbconvert_exporter": "python",
   "pygments_lexer": "ipython3",
   "version": "3.9.7"
  }
 },
 "nbformat": 4,
 "nbformat_minor": 5
}
